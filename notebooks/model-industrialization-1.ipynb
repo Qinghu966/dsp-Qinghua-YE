{
 "cells": [
  {
   "cell_type": "code",
   "execution_count": 1,
   "id": "027b663b",
   "metadata": {},
   "outputs": [],
   "source": [
    "import numpy as np\n",
    "import matplotlib.pyplot as plt\n",
    "import pandas as pd\n",
    "import sklearn "
   ]
  },
  {
   "cell_type": "markdown",
   "id": "12532c5e",
   "metadata": {},
   "source": [
    "## Model building"
   ]
  },
  {
   "cell_type": "markdown",
   "id": "3a2e1d93",
   "metadata": {},
   "source": [
    "### Model training"
   ]
  },
  {
   "cell_type": "code",
   "execution_count": 2,
   "id": "8745160a",
   "metadata": {},
   "outputs": [
    {
     "data": {
      "text/html": [
       "<div>\n",
       "<style scoped>\n",
       "    .dataframe tbody tr th:only-of-type {\n",
       "        vertical-align: middle;\n",
       "    }\n",
       "\n",
       "    .dataframe tbody tr th {\n",
       "        vertical-align: top;\n",
       "    }\n",
       "\n",
       "    .dataframe thead th {\n",
       "        text-align: right;\n",
       "    }\n",
       "</style>\n",
       "<table border=\"1\" class=\"dataframe\">\n",
       "  <thead>\n",
       "    <tr style=\"text-align: right;\">\n",
       "      <th></th>\n",
       "      <th>Id</th>\n",
       "      <th>MSSubClass</th>\n",
       "      <th>MSZoning</th>\n",
       "      <th>LotFrontage</th>\n",
       "      <th>LotArea</th>\n",
       "      <th>Street</th>\n",
       "      <th>Alley</th>\n",
       "      <th>LotShape</th>\n",
       "      <th>LandContour</th>\n",
       "      <th>Utilities</th>\n",
       "      <th>...</th>\n",
       "      <th>PoolArea</th>\n",
       "      <th>PoolQC</th>\n",
       "      <th>Fence</th>\n",
       "      <th>MiscFeature</th>\n",
       "      <th>MiscVal</th>\n",
       "      <th>MoSold</th>\n",
       "      <th>YrSold</th>\n",
       "      <th>SaleType</th>\n",
       "      <th>SaleCondition</th>\n",
       "      <th>SalePrice</th>\n",
       "    </tr>\n",
       "  </thead>\n",
       "  <tbody>\n",
       "    <tr>\n",
       "      <th>948</th>\n",
       "      <td>949</td>\n",
       "      <td>60</td>\n",
       "      <td>RL</td>\n",
       "      <td>65.0</td>\n",
       "      <td>14006</td>\n",
       "      <td>Pave</td>\n",
       "      <td>NaN</td>\n",
       "      <td>IR1</td>\n",
       "      <td>Lvl</td>\n",
       "      <td>AllPub</td>\n",
       "      <td>...</td>\n",
       "      <td>0</td>\n",
       "      <td>NaN</td>\n",
       "      <td>NaN</td>\n",
       "      <td>NaN</td>\n",
       "      <td>0</td>\n",
       "      <td>2</td>\n",
       "      <td>2006</td>\n",
       "      <td>WD</td>\n",
       "      <td>Normal</td>\n",
       "      <td>192500</td>\n",
       "    </tr>\n",
       "    <tr>\n",
       "      <th>1114</th>\n",
       "      <td>1115</td>\n",
       "      <td>20</td>\n",
       "      <td>RL</td>\n",
       "      <td>90.0</td>\n",
       "      <td>5400</td>\n",
       "      <td>Pave</td>\n",
       "      <td>NaN</td>\n",
       "      <td>Reg</td>\n",
       "      <td>Lvl</td>\n",
       "      <td>AllPub</td>\n",
       "      <td>...</td>\n",
       "      <td>0</td>\n",
       "      <td>NaN</td>\n",
       "      <td>MnPrv</td>\n",
       "      <td>NaN</td>\n",
       "      <td>0</td>\n",
       "      <td>8</td>\n",
       "      <td>2006</td>\n",
       "      <td>WD</td>\n",
       "      <td>Normal</td>\n",
       "      <td>117000</td>\n",
       "    </tr>\n",
       "    <tr>\n",
       "      <th>1445</th>\n",
       "      <td>1446</td>\n",
       "      <td>85</td>\n",
       "      <td>RL</td>\n",
       "      <td>70.0</td>\n",
       "      <td>8400</td>\n",
       "      <td>Pave</td>\n",
       "      <td>NaN</td>\n",
       "      <td>Reg</td>\n",
       "      <td>Lvl</td>\n",
       "      <td>AllPub</td>\n",
       "      <td>...</td>\n",
       "      <td>0</td>\n",
       "      <td>NaN</td>\n",
       "      <td>NaN</td>\n",
       "      <td>NaN</td>\n",
       "      <td>0</td>\n",
       "      <td>5</td>\n",
       "      <td>2007</td>\n",
       "      <td>WD</td>\n",
       "      <td>Normal</td>\n",
       "      <td>129000</td>\n",
       "    </tr>\n",
       "    <tr>\n",
       "      <th>1151</th>\n",
       "      <td>1152</td>\n",
       "      <td>20</td>\n",
       "      <td>RL</td>\n",
       "      <td>134.0</td>\n",
       "      <td>17755</td>\n",
       "      <td>Pave</td>\n",
       "      <td>NaN</td>\n",
       "      <td>Reg</td>\n",
       "      <td>Lvl</td>\n",
       "      <td>AllPub</td>\n",
       "      <td>...</td>\n",
       "      <td>0</td>\n",
       "      <td>NaN</td>\n",
       "      <td>NaN</td>\n",
       "      <td>NaN</td>\n",
       "      <td>0</td>\n",
       "      <td>11</td>\n",
       "      <td>2006</td>\n",
       "      <td>WD</td>\n",
       "      <td>Normal</td>\n",
       "      <td>149900</td>\n",
       "    </tr>\n",
       "    <tr>\n",
       "      <th>1324</th>\n",
       "      <td>1325</td>\n",
       "      <td>20</td>\n",
       "      <td>RL</td>\n",
       "      <td>75.0</td>\n",
       "      <td>9986</td>\n",
       "      <td>Pave</td>\n",
       "      <td>NaN</td>\n",
       "      <td>Reg</td>\n",
       "      <td>Lvl</td>\n",
       "      <td>AllPub</td>\n",
       "      <td>...</td>\n",
       "      <td>0</td>\n",
       "      <td>NaN</td>\n",
       "      <td>NaN</td>\n",
       "      <td>NaN</td>\n",
       "      <td>0</td>\n",
       "      <td>2</td>\n",
       "      <td>2007</td>\n",
       "      <td>New</td>\n",
       "      <td>Partial</td>\n",
       "      <td>147000</td>\n",
       "    </tr>\n",
       "    <tr>\n",
       "      <th>253</th>\n",
       "      <td>254</td>\n",
       "      <td>80</td>\n",
       "      <td>RL</td>\n",
       "      <td>85.0</td>\n",
       "      <td>9350</td>\n",
       "      <td>Pave</td>\n",
       "      <td>NaN</td>\n",
       "      <td>Reg</td>\n",
       "      <td>Lvl</td>\n",
       "      <td>AllPub</td>\n",
       "      <td>...</td>\n",
       "      <td>0</td>\n",
       "      <td>NaN</td>\n",
       "      <td>MnPrv</td>\n",
       "      <td>NaN</td>\n",
       "      <td>0</td>\n",
       "      <td>10</td>\n",
       "      <td>2007</td>\n",
       "      <td>CWD</td>\n",
       "      <td>Normal</td>\n",
       "      <td>158000</td>\n",
       "    </tr>\n",
       "  </tbody>\n",
       "</table>\n",
       "<p>6 rows × 81 columns</p>\n",
       "</div>"
      ],
      "text/plain": [
       "        Id  MSSubClass MSZoning  LotFrontage  LotArea Street Alley LotShape  \\\n",
       "948    949          60       RL         65.0    14006   Pave   NaN      IR1   \n",
       "1114  1115          20       RL         90.0     5400   Pave   NaN      Reg   \n",
       "1445  1446          85       RL         70.0     8400   Pave   NaN      Reg   \n",
       "1151  1152          20       RL        134.0    17755   Pave   NaN      Reg   \n",
       "1324  1325          20       RL         75.0     9986   Pave   NaN      Reg   \n",
       "253    254          80       RL         85.0     9350   Pave   NaN      Reg   \n",
       "\n",
       "     LandContour Utilities  ... PoolArea PoolQC  Fence MiscFeature MiscVal  \\\n",
       "948          Lvl    AllPub  ...        0    NaN    NaN         NaN       0   \n",
       "1114         Lvl    AllPub  ...        0    NaN  MnPrv         NaN       0   \n",
       "1445         Lvl    AllPub  ...        0    NaN    NaN         NaN       0   \n",
       "1151         Lvl    AllPub  ...        0    NaN    NaN         NaN       0   \n",
       "1324         Lvl    AllPub  ...        0    NaN    NaN         NaN       0   \n",
       "253          Lvl    AllPub  ...        0    NaN  MnPrv         NaN       0   \n",
       "\n",
       "     MoSold YrSold  SaleType  SaleCondition  SalePrice  \n",
       "948       2   2006        WD         Normal     192500  \n",
       "1114      8   2006        WD         Normal     117000  \n",
       "1445      5   2007        WD         Normal     129000  \n",
       "1151     11   2006        WD         Normal     149900  \n",
       "1324      2   2007       New        Partial     147000  \n",
       "253      10   2007       CWD         Normal     158000  \n",
       "\n",
       "[6 rows x 81 columns]"
      ]
     },
     "execution_count": 2,
     "metadata": {},
     "output_type": "execute_result"
    }
   ],
   "source": [
    "dataset = pd.read_csv('/Users/yeqinghua/Documents/dsp-dataset/house price/train.csv')\n",
    "dataset.sample(n=6)"
   ]
  },
  {
   "cell_type": "code",
   "execution_count": 3,
   "id": "27e800c1",
   "metadata": {},
   "outputs": [],
   "source": [
    "choose_features = dataset[['SalePrice', 'OverallQual', 'GrLivArea', 'BedroomAbvGr', 'GarageArea', 'LotShape', 'SaleCondition']]\n",
    "y = choose_features['SalePrice']\n",
    "X = choose_features.drop('SalePrice', axis=1)"
   ]
  },
  {
   "cell_type": "code",
   "execution_count": 4,
   "id": "fba72ae7",
   "metadata": {},
   "outputs": [
    {
     "data": {
      "text/plain": [
       "Reg    925\n",
       "IR1    484\n",
       "IR2     41\n",
       "IR3     10\n",
       "Name: LotShape, dtype: int64"
      ]
     },
     "execution_count": 4,
     "metadata": {},
     "output_type": "execute_result"
    }
   ],
   "source": [
    "dataset['LotShape'].value_counts()"
   ]
  },
  {
   "cell_type": "code",
   "execution_count": 5,
   "id": "32b1777d",
   "metadata": {},
   "outputs": [],
   "source": [
    "from sklearn.model_selection import train_test_split\n",
    "X_train, X_test, y_train, y_test = train_test_split(X, y, test_size = .7)"
   ]
  },
  {
   "cell_type": "code",
   "execution_count": 6,
   "id": "9e81a1f8",
   "metadata": {},
   "outputs": [
    {
     "data": {
      "image/png": "[encoded data removed]",
      "text/plain": [
       "<Figure size 432x288 with 2 Axes>"
      ]
     },
     "metadata": {
      "needs_background": "light"
     },
     "output_type": "display_data"
    }
   ],
   "source": [
    "import seaborn as sns\n",
    "_ = sns.heatmap(choose_features.corr(), annot=True)"
   ]
  },
  {
   "cell_type": "code",
   "execution_count": 7,
   "id": "125fcea0",
   "metadata": {},
   "outputs": [
    {
     "data": {
      "text/html": [
       "<div>\n",
       "<style scoped>\n",
       "    .dataframe tbody tr th:only-of-type {\n",
       "        vertical-align: middle;\n",
       "    }\n",
       "\n",
       "    .dataframe tbody tr th {\n",
       "        vertical-align: top;\n",
       "    }\n",
       "\n",
       "    .dataframe thead th {\n",
       "        text-align: right;\n",
       "    }\n",
       "</style>\n",
       "<table border=\"1\" class=\"dataframe\">\n",
       "  <thead>\n",
       "    <tr style=\"text-align: right;\">\n",
       "      <th></th>\n",
       "      <th>OverallQual</th>\n",
       "      <th>GrLivArea</th>\n",
       "      <th>BedroomAbvGr</th>\n",
       "      <th>GarageArea</th>\n",
       "      <th>LotShape</th>\n",
       "      <th>SaleCondition</th>\n",
       "    </tr>\n",
       "  </thead>\n",
       "  <tbody>\n",
       "    <tr>\n",
       "      <th>339</th>\n",
       "      <td>6</td>\n",
       "      <td>1215</td>\n",
       "      <td>3</td>\n",
       "      <td>297</td>\n",
       "      <td>IR1</td>\n",
       "      <td>4.0</td>\n",
       "    </tr>\n",
       "    <tr>\n",
       "      <th>669</th>\n",
       "      <td>4</td>\n",
       "      <td>1180</td>\n",
       "      <td>2</td>\n",
       "      <td>252</td>\n",
       "      <td>Reg</td>\n",
       "      <td>4.0</td>\n",
       "    </tr>\n",
       "    <tr>\n",
       "      <th>1459</th>\n",
       "      <td>5</td>\n",
       "      <td>1256</td>\n",
       "      <td>3</td>\n",
       "      <td>276</td>\n",
       "      <td>Reg</td>\n",
       "      <td>4.0</td>\n",
       "    </tr>\n",
       "    <tr>\n",
       "      <th>178</th>\n",
       "      <td>9</td>\n",
       "      <td>2234</td>\n",
       "      <td>1</td>\n",
       "      <td>1166</td>\n",
       "      <td>IR1</td>\n",
       "      <td>5.0</td>\n",
       "    </tr>\n",
       "    <tr>\n",
       "      <th>1244</th>\n",
       "      <td>8</td>\n",
       "      <td>1517</td>\n",
       "      <td>3</td>\n",
       "      <td>400</td>\n",
       "      <td>IR1</td>\n",
       "      <td>4.0</td>\n",
       "    </tr>\n",
       "    <tr>\n",
       "      <th>121</th>\n",
       "      <td>4</td>\n",
       "      <td>1123</td>\n",
       "      <td>3</td>\n",
       "      <td>264</td>\n",
       "      <td>Reg</td>\n",
       "      <td>4.0</td>\n",
       "    </tr>\n",
       "  </tbody>\n",
       "</table>\n",
       "</div>"
      ],
      "text/plain": [
       "      OverallQual  GrLivArea  BedroomAbvGr  GarageArea LotShape  SaleCondition\n",
       "339             6       1215             3         297      IR1            4.0\n",
       "669             4       1180             2         252      Reg            4.0\n",
       "1459            5       1256             3         276      Reg            4.0\n",
       "178             9       2234             1        1166      IR1            5.0\n",
       "1244            8       1517             3         400      IR1            4.0\n",
       "121             4       1123             3         264      Reg            4.0"
      ]
     },
     "execution_count": 7,
     "metadata": {},
     "output_type": "execute_result"
    }
   ],
   "source": [
    "from sklearn.preprocessing import OrdinalEncoder\n",
    "\n",
    "ordinal_encoder = OrdinalEncoder()\n",
    "X_train['SaleCondition'] = ordinal_encoder.fit_transform(X_train[['SaleCondition']])\n",
    "X_train.head(6)"
   ]
  },
  {
   "cell_type": "code",
   "execution_count": 8,
   "id": "828806ba",
   "metadata": {},
   "outputs": [
    {
     "data": {
      "text/plain": [
       "OneHotEncoder(dtype=<class 'int'>, sparse=False)"
      ]
     },
     "execution_count": 8,
     "metadata": {},
     "output_type": "execute_result"
    }
   ],
   "source": [
    "from sklearn.preprocessing import OneHotEncoder\n",
    "\n",
    "encoder = OneHotEncoder(handle_unknown='error', dtype=int, sparse=False)\n",
    "encoder.fit(X_train['LotShape'].values.reshape(-1,1))"
   ]
  },
  {
   "cell_type": "code",
   "execution_count": 9,
   "id": "40cb621b",
   "metadata": {},
   "outputs": [
    {
     "data": {
      "text/plain": [
       "[array(['IR1', 'IR2', 'IR3', 'Reg'], dtype=object)]"
      ]
     },
     "execution_count": 9,
     "metadata": {},
     "output_type": "execute_result"
    }
   ],
   "source": [
    "encoder.categories_"
   ]
  },
  {
   "cell_type": "code",
   "execution_count": 10,
   "id": "6be7b43b",
   "metadata": {},
   "outputs": [
    {
     "data": {
      "text/plain": [
       "array([[1, 0, 0, 0],\n",
       "       [0, 0, 0, 1],\n",
       "       [0, 0, 0, 1],\n",
       "       ...,\n",
       "       [1, 0, 0, 0],\n",
       "       [0, 1, 0, 0],\n",
       "       [1, 0, 0, 0]])"
      ]
     },
     "execution_count": 10,
     "metadata": {},
     "output_type": "execute_result"
    }
   ],
   "source": [
    "encoded_lotShape = encoder.fit_transform(X_train['LotShape'].values.reshape(-1,1))\n",
    "encoded_lotShape"
   ]
  },
  {
   "cell_type": "code",
   "execution_count": 11,
   "id": "79237322",
   "metadata": {},
   "outputs": [
    {
     "name": "stderr",
     "output_type": "stream",
     "text": [
      "/Users/yeqinghua/opt/anaconda3/envs/ml/lib/python3.9/site-packages/sklearn/utils/deprecation.py:87: FutureWarning: Function get_feature_names is deprecated; get_feature_names is deprecated in 1.0 and will be removed in 1.2. Please use get_feature_names_out instead.\n",
      "  warnings.warn(msg, category=FutureWarning)\n"
     ]
    },
    {
     "data": {
      "text/plain": [
       "array(['LotShape_IR1', 'LotShape_IR2', 'LotShape_IR3', 'LotShape_Reg'],\n",
       "      dtype=object)"
      ]
     },
     "execution_count": 11,
     "metadata": {},
     "output_type": "execute_result"
    }
   ],
   "source": [
    "encoded_lotShape_columns = encoder.get_feature_names(X_train[['LotShape']].columns)\n",
    "encoded_lotShape_columns"
   ]
  },
  {
   "cell_type": "code",
   "execution_count": 12,
   "id": "d263b6af",
   "metadata": {},
   "outputs": [
    {
     "data": {
      "text/html": [
       "<div>\n",
       "<style scoped>\n",
       "    .dataframe tbody tr th:only-of-type {\n",
       "        vertical-align: middle;\n",
       "    }\n",
       "\n",
       "    .dataframe tbody tr th {\n",
       "        vertical-align: top;\n",
       "    }\n",
       "\n",
       "    .dataframe thead th {\n",
       "        text-align: right;\n",
       "    }\n",
       "</style>\n",
       "<table border=\"1\" class=\"dataframe\">\n",
       "  <thead>\n",
       "    <tr style=\"text-align: right;\">\n",
       "      <th></th>\n",
       "      <th>LotShape_IR1</th>\n",
       "      <th>LotShape_IR2</th>\n",
       "      <th>LotShape_IR3</th>\n",
       "      <th>LotShape_Reg</th>\n",
       "    </tr>\n",
       "  </thead>\n",
       "  <tbody>\n",
       "    <tr>\n",
       "      <th>339</th>\n",
       "      <td>1</td>\n",
       "      <td>0</td>\n",
       "      <td>0</td>\n",
       "      <td>0</td>\n",
       "    </tr>\n",
       "    <tr>\n",
       "      <th>669</th>\n",
       "      <td>0</td>\n",
       "      <td>0</td>\n",
       "      <td>0</td>\n",
       "      <td>1</td>\n",
       "    </tr>\n",
       "    <tr>\n",
       "      <th>1459</th>\n",
       "      <td>0</td>\n",
       "      <td>0</td>\n",
       "      <td>0</td>\n",
       "      <td>1</td>\n",
       "    </tr>\n",
       "    <tr>\n",
       "      <th>178</th>\n",
       "      <td>1</td>\n",
       "      <td>0</td>\n",
       "      <td>0</td>\n",
       "      <td>0</td>\n",
       "    </tr>\n",
       "    <tr>\n",
       "      <th>1244</th>\n",
       "      <td>1</td>\n",
       "      <td>0</td>\n",
       "      <td>0</td>\n",
       "      <td>0</td>\n",
       "    </tr>\n",
       "  </tbody>\n",
       "</table>\n",
       "</div>"
      ],
      "text/plain": [
       "      LotShape_IR1  LotShape_IR2  LotShape_IR3  LotShape_Reg\n",
       "339              1             0             0             0\n",
       "669              0             0             0             1\n",
       "1459             0             0             0             1\n",
       "178              1             0             0             0\n",
       "1244             1             0             0             0"
      ]
     },
     "execution_count": 12,
     "metadata": {},
     "output_type": "execute_result"
    }
   ],
   "source": [
    "encoded_lotShape_df = pd.DataFrame(data=encoded_lotShape, columns=encoded_lotShape_columns, index=X_train[['LotShape']].index)\n",
    "encoded_lotShape_df.head(5)"
   ]
  },
  {
   "cell_type": "code",
   "execution_count": 13,
   "id": "59f9d8f5",
   "metadata": {},
   "outputs": [
    {
     "data": {
      "text/html": [
       "<div>\n",
       "<style scoped>\n",
       "    .dataframe tbody tr th:only-of-type {\n",
       "        vertical-align: middle;\n",
       "    }\n",
       "\n",
       "    .dataframe tbody tr th {\n",
       "        vertical-align: top;\n",
       "    }\n",
       "\n",
       "    .dataframe thead th {\n",
       "        text-align: right;\n",
       "    }\n",
       "</style>\n",
       "<table border=\"1\" class=\"dataframe\">\n",
       "  <thead>\n",
       "    <tr style=\"text-align: right;\">\n",
       "      <th></th>\n",
       "      <th>OverallQual</th>\n",
       "      <th>GrLivArea</th>\n",
       "      <th>BedroomAbvGr</th>\n",
       "      <th>GarageArea</th>\n",
       "      <th>LotShape</th>\n",
       "      <th>SaleCondition</th>\n",
       "      <th>LotShape_IR1</th>\n",
       "      <th>LotShape_IR2</th>\n",
       "      <th>LotShape_IR3</th>\n",
       "      <th>LotShape_Reg</th>\n",
       "    </tr>\n",
       "  </thead>\n",
       "  <tbody>\n",
       "    <tr>\n",
       "      <th>339</th>\n",
       "      <td>6</td>\n",
       "      <td>1215</td>\n",
       "      <td>3</td>\n",
       "      <td>297</td>\n",
       "      <td>IR1</td>\n",
       "      <td>4.0</td>\n",
       "      <td>1</td>\n",
       "      <td>0</td>\n",
       "      <td>0</td>\n",
       "      <td>0</td>\n",
       "    </tr>\n",
       "    <tr>\n",
       "      <th>669</th>\n",
       "      <td>4</td>\n",
       "      <td>1180</td>\n",
       "      <td>2</td>\n",
       "      <td>252</td>\n",
       "      <td>Reg</td>\n",
       "      <td>4.0</td>\n",
       "      <td>0</td>\n",
       "      <td>0</td>\n",
       "      <td>0</td>\n",
       "      <td>1</td>\n",
       "    </tr>\n",
       "    <tr>\n",
       "      <th>1459</th>\n",
       "      <td>5</td>\n",
       "      <td>1256</td>\n",
       "      <td>3</td>\n",
       "      <td>276</td>\n",
       "      <td>Reg</td>\n",
       "      <td>4.0</td>\n",
       "      <td>0</td>\n",
       "      <td>0</td>\n",
       "      <td>0</td>\n",
       "      <td>1</td>\n",
       "    </tr>\n",
       "    <tr>\n",
       "      <th>178</th>\n",
       "      <td>9</td>\n",
       "      <td>2234</td>\n",
       "      <td>1</td>\n",
       "      <td>1166</td>\n",
       "      <td>IR1</td>\n",
       "      <td>5.0</td>\n",
       "      <td>1</td>\n",
       "      <td>0</td>\n",
       "      <td>0</td>\n",
       "      <td>0</td>\n",
       "    </tr>\n",
       "    <tr>\n",
       "      <th>1244</th>\n",
       "      <td>8</td>\n",
       "      <td>1517</td>\n",
       "      <td>3</td>\n",
       "      <td>400</td>\n",
       "      <td>IR1</td>\n",
       "      <td>4.0</td>\n",
       "      <td>1</td>\n",
       "      <td>0</td>\n",
       "      <td>0</td>\n",
       "      <td>0</td>\n",
       "    </tr>\n",
       "  </tbody>\n",
       "</table>\n",
       "</div>"
      ],
      "text/plain": [
       "      OverallQual  GrLivArea  BedroomAbvGr  GarageArea LotShape  \\\n",
       "339             6       1215             3         297      IR1   \n",
       "669             4       1180             2         252      Reg   \n",
       "1459            5       1256             3         276      Reg   \n",
       "178             9       2234             1        1166      IR1   \n",
       "1244            8       1517             3         400      IR1   \n",
       "\n",
       "      SaleCondition  LotShape_IR1  LotShape_IR2  LotShape_IR3  LotShape_Reg  \n",
       "339             4.0             1             0             0             0  \n",
       "669             4.0             0             0             0             1  \n",
       "1459            4.0             0             0             0             1  \n",
       "178             5.0             1             0             0             0  \n",
       "1244            4.0             1             0             0             0  "
      ]
     },
     "execution_count": 13,
     "metadata": {},
     "output_type": "execute_result"
    }
   ],
   "source": [
    "X_train = X_train.copy().join(encoded_lotShape_df)\n",
    "X_train.head(5)"
   ]
  },
  {
   "cell_type": "code",
   "execution_count": 14,
   "id": "e20b22b9",
   "metadata": {},
   "outputs": [
    {
     "data": {
      "text/html": [
       "<div>\n",
       "<style scoped>\n",
       "    .dataframe tbody tr th:only-of-type {\n",
       "        vertical-align: middle;\n",
       "    }\n",
       "\n",
       "    .dataframe tbody tr th {\n",
       "        vertical-align: top;\n",
       "    }\n",
       "\n",
       "    .dataframe thead th {\n",
       "        text-align: right;\n",
       "    }\n",
       "</style>\n",
       "<table border=\"1\" class=\"dataframe\">\n",
       "  <thead>\n",
       "    <tr style=\"text-align: right;\">\n",
       "      <th></th>\n",
       "      <th>OverallQual</th>\n",
       "      <th>GrLivArea</th>\n",
       "      <th>BedroomAbvGr</th>\n",
       "      <th>GarageArea</th>\n",
       "      <th>SaleCondition</th>\n",
       "      <th>LotShape_IR1</th>\n",
       "      <th>LotShape_IR2</th>\n",
       "      <th>LotShape_IR3</th>\n",
       "      <th>LotShape_Reg</th>\n",
       "    </tr>\n",
       "  </thead>\n",
       "  <tbody>\n",
       "    <tr>\n",
       "      <th>339</th>\n",
       "      <td>6</td>\n",
       "      <td>1215</td>\n",
       "      <td>3</td>\n",
       "      <td>297</td>\n",
       "      <td>4.0</td>\n",
       "      <td>1</td>\n",
       "      <td>0</td>\n",
       "      <td>0</td>\n",
       "      <td>0</td>\n",
       "    </tr>\n",
       "    <tr>\n",
       "      <th>669</th>\n",
       "      <td>4</td>\n",
       "      <td>1180</td>\n",
       "      <td>2</td>\n",
       "      <td>252</td>\n",
       "      <td>4.0</td>\n",
       "      <td>0</td>\n",
       "      <td>0</td>\n",
       "      <td>0</td>\n",
       "      <td>1</td>\n",
       "    </tr>\n",
       "    <tr>\n",
       "      <th>1459</th>\n",
       "      <td>5</td>\n",
       "      <td>1256</td>\n",
       "      <td>3</td>\n",
       "      <td>276</td>\n",
       "      <td>4.0</td>\n",
       "      <td>0</td>\n",
       "      <td>0</td>\n",
       "      <td>0</td>\n",
       "      <td>1</td>\n",
       "    </tr>\n",
       "    <tr>\n",
       "      <th>178</th>\n",
       "      <td>9</td>\n",
       "      <td>2234</td>\n",
       "      <td>1</td>\n",
       "      <td>1166</td>\n",
       "      <td>5.0</td>\n",
       "      <td>1</td>\n",
       "      <td>0</td>\n",
       "      <td>0</td>\n",
       "      <td>0</td>\n",
       "    </tr>\n",
       "    <tr>\n",
       "      <th>1244</th>\n",
       "      <td>8</td>\n",
       "      <td>1517</td>\n",
       "      <td>3</td>\n",
       "      <td>400</td>\n",
       "      <td>4.0</td>\n",
       "      <td>1</td>\n",
       "      <td>0</td>\n",
       "      <td>0</td>\n",
       "      <td>0</td>\n",
       "    </tr>\n",
       "  </tbody>\n",
       "</table>\n",
       "</div>"
      ],
      "text/plain": [
       "      OverallQual  GrLivArea  BedroomAbvGr  GarageArea  SaleCondition  \\\n",
       "339             6       1215             3         297            4.0   \n",
       "669             4       1180             2         252            4.0   \n",
       "1459            5       1256             3         276            4.0   \n",
       "178             9       2234             1        1166            5.0   \n",
       "1244            8       1517             3         400            4.0   \n",
       "\n",
       "      LotShape_IR1  LotShape_IR2  LotShape_IR3  LotShape_Reg  \n",
       "339              1             0             0             0  \n",
       "669              0             0             0             1  \n",
       "1459             0             0             0             1  \n",
       "178              1             0             0             0  \n",
       "1244             1             0             0             0  "
      ]
     },
     "execution_count": 14,
     "metadata": {},
     "output_type": "execute_result"
    }
   ],
   "source": [
    "X_train= X_train.drop('LotShape', axis=1)\n",
    "X_train.head(5)"
   ]
  },
  {
   "cell_type": "code",
   "execution_count": 15,
   "id": "4468c8bd",
   "metadata": {},
   "outputs": [
    {
     "data": {
      "text/html": [
       "<div>\n",
       "<style scoped>\n",
       "    .dataframe tbody tr th:only-of-type {\n",
       "        vertical-align: middle;\n",
       "    }\n",
       "\n",
       "    .dataframe tbody tr th {\n",
       "        vertical-align: top;\n",
       "    }\n",
       "\n",
       "    .dataframe thead th {\n",
       "        text-align: right;\n",
       "    }\n",
       "</style>\n",
       "<table border=\"1\" class=\"dataframe\">\n",
       "  <thead>\n",
       "    <tr style=\"text-align: right;\">\n",
       "      <th></th>\n",
       "      <th>OverallQual</th>\n",
       "      <th>GrLivArea</th>\n",
       "      <th>BedroomAbvGr</th>\n",
       "      <th>GarageArea</th>\n",
       "    </tr>\n",
       "  </thead>\n",
       "  <tbody>\n",
       "    <tr>\n",
       "      <th>339</th>\n",
       "      <td>6</td>\n",
       "      <td>1215</td>\n",
       "      <td>3</td>\n",
       "      <td>297</td>\n",
       "    </tr>\n",
       "    <tr>\n",
       "      <th>669</th>\n",
       "      <td>4</td>\n",
       "      <td>1180</td>\n",
       "      <td>2</td>\n",
       "      <td>252</td>\n",
       "    </tr>\n",
       "    <tr>\n",
       "      <th>1459</th>\n",
       "      <td>5</td>\n",
       "      <td>1256</td>\n",
       "      <td>3</td>\n",
       "      <td>276</td>\n",
       "    </tr>\n",
       "    <tr>\n",
       "      <th>178</th>\n",
       "      <td>9</td>\n",
       "      <td>2234</td>\n",
       "      <td>1</td>\n",
       "      <td>1166</td>\n",
       "    </tr>\n",
       "    <tr>\n",
       "      <th>1244</th>\n",
       "      <td>8</td>\n",
       "      <td>1517</td>\n",
       "      <td>3</td>\n",
       "      <td>400</td>\n",
       "    </tr>\n",
       "    <tr>\n",
       "      <th>121</th>\n",
       "      <td>4</td>\n",
       "      <td>1123</td>\n",
       "      <td>3</td>\n",
       "      <td>264</td>\n",
       "    </tr>\n",
       "  </tbody>\n",
       "</table>\n",
       "</div>"
      ],
      "text/plain": [
       "      OverallQual  GrLivArea  BedroomAbvGr  GarageArea\n",
       "339             6       1215             3         297\n",
       "669             4       1180             2         252\n",
       "1459            5       1256             3         276\n",
       "178             9       2234             1        1166\n",
       "1244            8       1517             3         400\n",
       "121             4       1123             3         264"
      ]
     },
     "execution_count": 15,
     "metadata": {},
     "output_type": "execute_result"
    }
   ],
   "source": [
    "features_to_scale = [ 'OverallQual', 'GrLivArea', 'BedroomAbvGr', 'GarageArea']\n",
    "X_train[features_to_scale].head(6)"
   ]
  },
  {
   "cell_type": "code",
   "execution_count": 16,
   "id": "ab061715",
   "metadata": {},
   "outputs": [
    {
     "data": {
      "text/html": [
       "<div>\n",
       "<style scoped>\n",
       "    .dataframe tbody tr th:only-of-type {\n",
       "        vertical-align: middle;\n",
       "    }\n",
       "\n",
       "    .dataframe tbody tr th {\n",
       "        vertical-align: top;\n",
       "    }\n",
       "\n",
       "    .dataframe thead th {\n",
       "        text-align: right;\n",
       "    }\n",
       "</style>\n",
       "<table border=\"1\" class=\"dataframe\">\n",
       "  <thead>\n",
       "    <tr style=\"text-align: right;\">\n",
       "      <th></th>\n",
       "      <th>OverallQual</th>\n",
       "      <th>GrLivArea</th>\n",
       "      <th>BedroomAbvGr</th>\n",
       "      <th>GarageArea</th>\n",
       "      <th>SaleCondition</th>\n",
       "      <th>LotShape_IR1</th>\n",
       "      <th>LotShape_IR2</th>\n",
       "      <th>LotShape_IR3</th>\n",
       "      <th>LotShape_Reg</th>\n",
       "    </tr>\n",
       "  </thead>\n",
       "  <tbody>\n",
       "    <tr>\n",
       "      <th>339</th>\n",
       "      <td>-0.074631</td>\n",
       "      <td>-0.577432</td>\n",
       "      <td>0.173815</td>\n",
       "      <td>-0.791082</td>\n",
       "      <td>4.0</td>\n",
       "      <td>1</td>\n",
       "      <td>0</td>\n",
       "      <td>0</td>\n",
       "      <td>0</td>\n",
       "    </tr>\n",
       "    <tr>\n",
       "      <th>669</th>\n",
       "      <td>-1.560470</td>\n",
       "      <td>-0.647032</td>\n",
       "      <td>-1.034614</td>\n",
       "      <td>-1.000442</td>\n",
       "      <td>4.0</td>\n",
       "      <td>0</td>\n",
       "      <td>0</td>\n",
       "      <td>0</td>\n",
       "      <td>1</td>\n",
       "    </tr>\n",
       "    <tr>\n",
       "      <th>1459</th>\n",
       "      <td>-0.817551</td>\n",
       "      <td>-0.495901</td>\n",
       "      <td>0.173815</td>\n",
       "      <td>-0.888783</td>\n",
       "      <td>4.0</td>\n",
       "      <td>0</td>\n",
       "      <td>0</td>\n",
       "      <td>0</td>\n",
       "      <td>1</td>\n",
       "    </tr>\n",
       "    <tr>\n",
       "      <th>178</th>\n",
       "      <td>2.154127</td>\n",
       "      <td>1.448912</td>\n",
       "      <td>-2.243042</td>\n",
       "      <td>3.251876</td>\n",
       "      <td>5.0</td>\n",
       "      <td>1</td>\n",
       "      <td>0</td>\n",
       "      <td>0</td>\n",
       "      <td>0</td>\n",
       "    </tr>\n",
       "    <tr>\n",
       "      <th>1244</th>\n",
       "      <td>1.411208</td>\n",
       "      <td>0.023114</td>\n",
       "      <td>0.173815</td>\n",
       "      <td>-0.311882</td>\n",
       "      <td>4.0</td>\n",
       "      <td>1</td>\n",
       "      <td>0</td>\n",
       "      <td>0</td>\n",
       "      <td>0</td>\n",
       "    </tr>\n",
       "    <tr>\n",
       "      <th>121</th>\n",
       "      <td>-1.560470</td>\n",
       "      <td>-0.760380</td>\n",
       "      <td>0.173815</td>\n",
       "      <td>-0.944612</td>\n",
       "      <td>4.0</td>\n",
       "      <td>0</td>\n",
       "      <td>0</td>\n",
       "      <td>0</td>\n",
       "      <td>1</td>\n",
       "    </tr>\n",
       "  </tbody>\n",
       "</table>\n",
       "</div>"
      ],
      "text/plain": [
       "      OverallQual  GrLivArea  BedroomAbvGr  GarageArea  SaleCondition  \\\n",
       "339     -0.074631  -0.577432      0.173815   -0.791082            4.0   \n",
       "669     -1.560470  -0.647032     -1.034614   -1.000442            4.0   \n",
       "1459    -0.817551  -0.495901      0.173815   -0.888783            4.0   \n",
       "178      2.154127   1.448912     -2.243042    3.251876            5.0   \n",
       "1244     1.411208   0.023114      0.173815   -0.311882            4.0   \n",
       "121     -1.560470  -0.760380      0.173815   -0.944612            4.0   \n",
       "\n",
       "      LotShape_IR1  LotShape_IR2  LotShape_IR3  LotShape_Reg  \n",
       "339              1             0             0             0  \n",
       "669              0             0             0             1  \n",
       "1459             0             0             0             1  \n",
       "178              1             0             0             0  \n",
       "1244             1             0             0             0  \n",
       "121              0             0             0             1  "
      ]
     },
     "execution_count": 16,
     "metadata": {},
     "output_type": "execute_result"
    }
   ],
   "source": [
    "from sklearn.preprocessing import StandardScaler\n",
    "\n",
    "scaler = StandardScaler()\n",
    "X_train.loc[:,features_to_scale] = scaler.fit_transform(X_train[features_to_scale])\n",
    "X_train.head(6)"
   ]
  },
  {
   "cell_type": "code",
   "execution_count": 17,
   "id": "04d79047",
   "metadata": {},
   "outputs": [
    {
     "data": {
      "text/plain": [
       "SVC(kernel='linear')"
      ]
     },
     "execution_count": 17,
     "metadata": {},
     "output_type": "execute_result"
    }
   ],
   "source": [
    "from sklearn.svm import SVC\n",
    "\n",
    "model = SVC(kernel='linear')\n",
    "model"
   ]
  },
  {
   "cell_type": "code",
   "execution_count": 18,
   "id": "9ee68f4a",
   "metadata": {},
   "outputs": [
    {
     "data": {
      "text/plain": [
       "SVC(kernel='linear')"
      ]
     },
     "execution_count": 18,
     "metadata": {},
     "output_type": "execute_result"
    }
   ],
   "source": [
    "model.fit(X_train, y_train)"
   ]
  },
  {
   "cell_type": "markdown",
   "id": "78f107ed",
   "metadata": {},
   "source": [
    "### Model evaluation"
   ]
  },
  {
   "cell_type": "code",
   "execution_count": 19,
   "id": "8c68670b",
   "metadata": {},
   "outputs": [
    {
     "data": {
      "text/html": [
       "<div>\n",
       "<style scoped>\n",
       "    .dataframe tbody tr th:only-of-type {\n",
       "        vertical-align: middle;\n",
       "    }\n",
       "\n",
       "    .dataframe tbody tr th {\n",
       "        vertical-align: top;\n",
       "    }\n",
       "\n",
       "    .dataframe thead th {\n",
       "        text-align: right;\n",
       "    }\n",
       "</style>\n",
       "<table border=\"1\" class=\"dataframe\">\n",
       "  <thead>\n",
       "    <tr style=\"text-align: right;\">\n",
       "      <th></th>\n",
       "      <th>OverallQual</th>\n",
       "      <th>GrLivArea</th>\n",
       "      <th>BedroomAbvGr</th>\n",
       "      <th>GarageArea</th>\n",
       "      <th>LotShape</th>\n",
       "      <th>SaleCondition</th>\n",
       "    </tr>\n",
       "  </thead>\n",
       "  <tbody>\n",
       "    <tr>\n",
       "      <th>1199</th>\n",
       "      <td>4</td>\n",
       "      <td>1382</td>\n",
       "      <td>3</td>\n",
       "      <td>459</td>\n",
       "      <td>Reg</td>\n",
       "      <td>4.0</td>\n",
       "    </tr>\n",
       "    <tr>\n",
       "      <th>1232</th>\n",
       "      <td>4</td>\n",
       "      <td>1224</td>\n",
       "      <td>2</td>\n",
       "      <td>462</td>\n",
       "      <td>Reg</td>\n",
       "      <td>4.0</td>\n",
       "    </tr>\n",
       "    <tr>\n",
       "      <th>1114</th>\n",
       "      <td>5</td>\n",
       "      <td>833</td>\n",
       "      <td>2</td>\n",
       "      <td>326</td>\n",
       "      <td>Reg</td>\n",
       "      <td>4.0</td>\n",
       "    </tr>\n",
       "    <tr>\n",
       "      <th>435</th>\n",
       "      <td>7</td>\n",
       "      <td>1661</td>\n",
       "      <td>3</td>\n",
       "      <td>550</td>\n",
       "      <td>IR2</td>\n",
       "      <td>4.0</td>\n",
       "    </tr>\n",
       "    <tr>\n",
       "      <th>920</th>\n",
       "      <td>6</td>\n",
       "      <td>1721</td>\n",
       "      <td>3</td>\n",
       "      <td>471</td>\n",
       "      <td>IR1</td>\n",
       "      <td>4.0</td>\n",
       "    </tr>\n",
       "    <tr>\n",
       "      <th>1203</th>\n",
       "      <td>7</td>\n",
       "      <td>1630</td>\n",
       "      <td>3</td>\n",
       "      <td>451</td>\n",
       "      <td>Reg</td>\n",
       "      <td>4.0</td>\n",
       "    </tr>\n",
       "  </tbody>\n",
       "</table>\n",
       "</div>"
      ],
      "text/plain": [
       "      OverallQual  GrLivArea  BedroomAbvGr  GarageArea LotShape  SaleCondition\n",
       "1199            4       1382             3         459      Reg            4.0\n",
       "1232            4       1224             2         462      Reg            4.0\n",
       "1114            5        833             2         326      Reg            4.0\n",
       "435             7       1661             3         550      IR2            4.0\n",
       "920             6       1721             3         471      IR1            4.0\n",
       "1203            7       1630             3         451      Reg            4.0"
      ]
     },
     "execution_count": 19,
     "metadata": {},
     "output_type": "execute_result"
    }
   ],
   "source": [
    "from sklearn.preprocessing import OrdinalEncoder\n",
    "\n",
    "ordinal_encoder = OrdinalEncoder()\n",
    "X_test['SaleCondition'] = ordinal_encoder.fit_transform(X_test[['SaleCondition']])\n",
    "X_test.head(6)"
   ]
  },
  {
   "cell_type": "code",
   "execution_count": 20,
   "id": "3dd208de",
   "metadata": {},
   "outputs": [
    {
     "data": {
      "text/plain": [
       "OneHotEncoder(dtype=<class 'int'>, sparse=False)"
      ]
     },
     "execution_count": 20,
     "metadata": {},
     "output_type": "execute_result"
    }
   ],
   "source": [
    "from sklearn.preprocessing import OneHotEncoder\n",
    "\n",
    "encoder = OneHotEncoder(handle_unknown='error', dtype=int, sparse=False)\n",
    "encoder.fit(X_test['LotShape'].values.reshape(-1,1))"
   ]
  },
  {
   "cell_type": "code",
   "execution_count": 21,
   "id": "5ae03e80",
   "metadata": {},
   "outputs": [
    {
     "data": {
      "text/plain": [
       "array([[0, 0, 0, 1],\n",
       "       [0, 0, 0, 1],\n",
       "       [0, 0, 0, 1],\n",
       "       ...,\n",
       "       [0, 0, 0, 1],\n",
       "       [1, 0, 0, 0],\n",
       "       [0, 0, 0, 1]])"
      ]
     },
     "execution_count": 21,
     "metadata": {},
     "output_type": "execute_result"
    }
   ],
   "source": [
    "encoded_lotShape_test = encoder.fit_transform(X_test['LotShape'].values.reshape(-1,1))\n",
    "encoded_lotShape_test"
   ]
  },
  {
   "cell_type": "code",
   "execution_count": 22,
   "id": "a5c1cbae",
   "metadata": {},
   "outputs": [
    {
     "name": "stderr",
     "output_type": "stream",
     "text": [
      "/Users/yeqinghua/opt/anaconda3/envs/ml/lib/python3.9/site-packages/sklearn/utils/deprecation.py:87: FutureWarning: Function get_feature_names is deprecated; get_feature_names is deprecated in 1.0 and will be removed in 1.2. Please use get_feature_names_out instead.\n",
      "  warnings.warn(msg, category=FutureWarning)\n"
     ]
    },
    {
     "data": {
      "text/plain": [
       "array(['LotShape_IR1', 'LotShape_IR2', 'LotShape_IR3', 'LotShape_Reg'],\n",
       "      dtype=object)"
      ]
     },
     "execution_count": 22,
     "metadata": {},
     "output_type": "execute_result"
    }
   ],
   "source": [
    "encoded_lotShape_columns_test = encoder.get_feature_names(X_test[['LotShape']].columns)\n",
    "encoded_lotShape_columns_test"
   ]
  },
  {
   "cell_type": "code",
   "execution_count": 23,
   "id": "cb7ef9e6",
   "metadata": {},
   "outputs": [
    {
     "data": {
      "text/html": [
       "<div>\n",
       "<style scoped>\n",
       "    .dataframe tbody tr th:only-of-type {\n",
       "        vertical-align: middle;\n",
       "    }\n",
       "\n",
       "    .dataframe tbody tr th {\n",
       "        vertical-align: top;\n",
       "    }\n",
       "\n",
       "    .dataframe thead th {\n",
       "        text-align: right;\n",
       "    }\n",
       "</style>\n",
       "<table border=\"1\" class=\"dataframe\">\n",
       "  <thead>\n",
       "    <tr style=\"text-align: right;\">\n",
       "      <th></th>\n",
       "      <th>LotShape_IR1</th>\n",
       "      <th>LotShape_IR2</th>\n",
       "      <th>LotShape_IR3</th>\n",
       "      <th>LotShape_Reg</th>\n",
       "    </tr>\n",
       "  </thead>\n",
       "  <tbody>\n",
       "    <tr>\n",
       "      <th>1199</th>\n",
       "      <td>0</td>\n",
       "      <td>0</td>\n",
       "      <td>0</td>\n",
       "      <td>1</td>\n",
       "    </tr>\n",
       "    <tr>\n",
       "      <th>1232</th>\n",
       "      <td>0</td>\n",
       "      <td>0</td>\n",
       "      <td>0</td>\n",
       "      <td>1</td>\n",
       "    </tr>\n",
       "    <tr>\n",
       "      <th>1114</th>\n",
       "      <td>0</td>\n",
       "      <td>0</td>\n",
       "      <td>0</td>\n",
       "      <td>1</td>\n",
       "    </tr>\n",
       "    <tr>\n",
       "      <th>435</th>\n",
       "      <td>0</td>\n",
       "      <td>1</td>\n",
       "      <td>0</td>\n",
       "      <td>0</td>\n",
       "    </tr>\n",
       "    <tr>\n",
       "      <th>920</th>\n",
       "      <td>1</td>\n",
       "      <td>0</td>\n",
       "      <td>0</td>\n",
       "      <td>0</td>\n",
       "    </tr>\n",
       "  </tbody>\n",
       "</table>\n",
       "</div>"
      ],
      "text/plain": [
       "      LotShape_IR1  LotShape_IR2  LotShape_IR3  LotShape_Reg\n",
       "1199             0             0             0             1\n",
       "1232             0             0             0             1\n",
       "1114             0             0             0             1\n",
       "435              0             1             0             0\n",
       "920              1             0             0             0"
      ]
     },
     "execution_count": 23,
     "metadata": {},
     "output_type": "execute_result"
    }
   ],
   "source": [
    "encoded_lotShape_df_test = pd.DataFrame(data=encoded_lotShape_test, columns=encoded_lotShape_columns_test, index=X_test[['LotShape']].index)\n",
    "encoded_lotShape_df_test.head(5)"
   ]
  },
  {
   "cell_type": "code",
   "execution_count": 24,
   "id": "3272a0cb",
   "metadata": {},
   "outputs": [
    {
     "data": {
      "text/html": [
       "<div>\n",
       "<style scoped>\n",
       "    .dataframe tbody tr th:only-of-type {\n",
       "        vertical-align: middle;\n",
       "    }\n",
       "\n",
       "    .dataframe tbody tr th {\n",
       "        vertical-align: top;\n",
       "    }\n",
       "\n",
       "    .dataframe thead th {\n",
       "        text-align: right;\n",
       "    }\n",
       "</style>\n",
       "<table border=\"1\" class=\"dataframe\">\n",
       "  <thead>\n",
       "    <tr style=\"text-align: right;\">\n",
       "      <th></th>\n",
       "      <th>OverallQual</th>\n",
       "      <th>GrLivArea</th>\n",
       "      <th>BedroomAbvGr</th>\n",
       "      <th>GarageArea</th>\n",
       "      <th>LotShape</th>\n",
       "      <th>SaleCondition</th>\n",
       "      <th>LotShape_IR1</th>\n",
       "      <th>LotShape_IR2</th>\n",
       "      <th>LotShape_IR3</th>\n",
       "      <th>LotShape_Reg</th>\n",
       "    </tr>\n",
       "  </thead>\n",
       "  <tbody>\n",
       "    <tr>\n",
       "      <th>1199</th>\n",
       "      <td>4</td>\n",
       "      <td>1382</td>\n",
       "      <td>3</td>\n",
       "      <td>459</td>\n",
       "      <td>Reg</td>\n",
       "      <td>4.0</td>\n",
       "      <td>0</td>\n",
       "      <td>0</td>\n",
       "      <td>0</td>\n",
       "      <td>1</td>\n",
       "    </tr>\n",
       "    <tr>\n",
       "      <th>1232</th>\n",
       "      <td>4</td>\n",
       "      <td>1224</td>\n",
       "      <td>2</td>\n",
       "      <td>462</td>\n",
       "      <td>Reg</td>\n",
       "      <td>4.0</td>\n",
       "      <td>0</td>\n",
       "      <td>0</td>\n",
       "      <td>0</td>\n",
       "      <td>1</td>\n",
       "    </tr>\n",
       "    <tr>\n",
       "      <th>1114</th>\n",
       "      <td>5</td>\n",
       "      <td>833</td>\n",
       "      <td>2</td>\n",
       "      <td>326</td>\n",
       "      <td>Reg</td>\n",
       "      <td>4.0</td>\n",
       "      <td>0</td>\n",
       "      <td>0</td>\n",
       "      <td>0</td>\n",
       "      <td>1</td>\n",
       "    </tr>\n",
       "    <tr>\n",
       "      <th>435</th>\n",
       "      <td>7</td>\n",
       "      <td>1661</td>\n",
       "      <td>3</td>\n",
       "      <td>550</td>\n",
       "      <td>IR2</td>\n",
       "      <td>4.0</td>\n",
       "      <td>0</td>\n",
       "      <td>1</td>\n",
       "      <td>0</td>\n",
       "      <td>0</td>\n",
       "    </tr>\n",
       "    <tr>\n",
       "      <th>920</th>\n",
       "      <td>6</td>\n",
       "      <td>1721</td>\n",
       "      <td>3</td>\n",
       "      <td>471</td>\n",
       "      <td>IR1</td>\n",
       "      <td>4.0</td>\n",
       "      <td>1</td>\n",
       "      <td>0</td>\n",
       "      <td>0</td>\n",
       "      <td>0</td>\n",
       "    </tr>\n",
       "  </tbody>\n",
       "</table>\n",
       "</div>"
      ],
      "text/plain": [
       "      OverallQual  GrLivArea  BedroomAbvGr  GarageArea LotShape  \\\n",
       "1199            4       1382             3         459      Reg   \n",
       "1232            4       1224             2         462      Reg   \n",
       "1114            5        833             2         326      Reg   \n",
       "435             7       1661             3         550      IR2   \n",
       "920             6       1721             3         471      IR1   \n",
       "\n",
       "      SaleCondition  LotShape_IR1  LotShape_IR2  LotShape_IR3  LotShape_Reg  \n",
       "1199            4.0             0             0             0             1  \n",
       "1232            4.0             0             0             0             1  \n",
       "1114            4.0             0             0             0             1  \n",
       "435             4.0             0             1             0             0  \n",
       "920             4.0             1             0             0             0  "
      ]
     },
     "execution_count": 24,
     "metadata": {},
     "output_type": "execute_result"
    }
   ],
   "source": [
    "X_test = X_test.copy().join(encoded_lotShape_df_test)\n",
    "X_test.head(5)"
   ]
  },
  {
   "cell_type": "code",
   "execution_count": 25,
   "id": "254003ac",
   "metadata": {},
   "outputs": [
    {
     "data": {
      "text/html": [
       "<div>\n",
       "<style scoped>\n",
       "    .dataframe tbody tr th:only-of-type {\n",
       "        vertical-align: middle;\n",
       "    }\n",
       "\n",
       "    .dataframe tbody tr th {\n",
       "        vertical-align: top;\n",
       "    }\n",
       "\n",
       "    .dataframe thead th {\n",
       "        text-align: right;\n",
       "    }\n",
       "</style>\n",
       "<table border=\"1\" class=\"dataframe\">\n",
       "  <thead>\n",
       "    <tr style=\"text-align: right;\">\n",
       "      <th></th>\n",
       "      <th>OverallQual</th>\n",
       "      <th>GrLivArea</th>\n",
       "      <th>BedroomAbvGr</th>\n",
       "      <th>GarageArea</th>\n",
       "      <th>SaleCondition</th>\n",
       "      <th>LotShape_IR1</th>\n",
       "      <th>LotShape_IR2</th>\n",
       "      <th>LotShape_IR3</th>\n",
       "      <th>LotShape_Reg</th>\n",
       "    </tr>\n",
       "  </thead>\n",
       "  <tbody>\n",
       "    <tr>\n",
       "      <th>1199</th>\n",
       "      <td>4</td>\n",
       "      <td>1382</td>\n",
       "      <td>3</td>\n",
       "      <td>459</td>\n",
       "      <td>4.0</td>\n",
       "      <td>0</td>\n",
       "      <td>0</td>\n",
       "      <td>0</td>\n",
       "      <td>1</td>\n",
       "    </tr>\n",
       "    <tr>\n",
       "      <th>1232</th>\n",
       "      <td>4</td>\n",
       "      <td>1224</td>\n",
       "      <td>2</td>\n",
       "      <td>462</td>\n",
       "      <td>4.0</td>\n",
       "      <td>0</td>\n",
       "      <td>0</td>\n",
       "      <td>0</td>\n",
       "      <td>1</td>\n",
       "    </tr>\n",
       "    <tr>\n",
       "      <th>1114</th>\n",
       "      <td>5</td>\n",
       "      <td>833</td>\n",
       "      <td>2</td>\n",
       "      <td>326</td>\n",
       "      <td>4.0</td>\n",
       "      <td>0</td>\n",
       "      <td>0</td>\n",
       "      <td>0</td>\n",
       "      <td>1</td>\n",
       "    </tr>\n",
       "    <tr>\n",
       "      <th>435</th>\n",
       "      <td>7</td>\n",
       "      <td>1661</td>\n",
       "      <td>3</td>\n",
       "      <td>550</td>\n",
       "      <td>4.0</td>\n",
       "      <td>0</td>\n",
       "      <td>1</td>\n",
       "      <td>0</td>\n",
       "      <td>0</td>\n",
       "    </tr>\n",
       "    <tr>\n",
       "      <th>920</th>\n",
       "      <td>6</td>\n",
       "      <td>1721</td>\n",
       "      <td>3</td>\n",
       "      <td>471</td>\n",
       "      <td>4.0</td>\n",
       "      <td>1</td>\n",
       "      <td>0</td>\n",
       "      <td>0</td>\n",
       "      <td>0</td>\n",
       "    </tr>\n",
       "  </tbody>\n",
       "</table>\n",
       "</div>"
      ],
      "text/plain": [
       "      OverallQual  GrLivArea  BedroomAbvGr  GarageArea  SaleCondition  \\\n",
       "1199            4       1382             3         459            4.0   \n",
       "1232            4       1224             2         462            4.0   \n",
       "1114            5        833             2         326            4.0   \n",
       "435             7       1661             3         550            4.0   \n",
       "920             6       1721             3         471            4.0   \n",
       "\n",
       "      LotShape_IR1  LotShape_IR2  LotShape_IR3  LotShape_Reg  \n",
       "1199             0             0             0             1  \n",
       "1232             0             0             0             1  \n",
       "1114             0             0             0             1  \n",
       "435              0             1             0             0  \n",
       "920              1             0             0             0  "
      ]
     },
     "execution_count": 25,
     "metadata": {},
     "output_type": "execute_result"
    }
   ],
   "source": [
    "X_test= X_test.drop('LotShape', axis=1)\n",
    "X_test.head(5)"
   ]
  },
  {
   "cell_type": "code",
   "execution_count": 26,
   "id": "4edda4b8",
   "metadata": {},
   "outputs": [
    {
     "data": {
      "text/html": [
       "<div>\n",
       "<style scoped>\n",
       "    .dataframe tbody tr th:only-of-type {\n",
       "        vertical-align: middle;\n",
       "    }\n",
       "\n",
       "    .dataframe tbody tr th {\n",
       "        vertical-align: top;\n",
       "    }\n",
       "\n",
       "    .dataframe thead th {\n",
       "        text-align: right;\n",
       "    }\n",
       "</style>\n",
       "<table border=\"1\" class=\"dataframe\">\n",
       "  <thead>\n",
       "    <tr style=\"text-align: right;\">\n",
       "      <th></th>\n",
       "      <th>OverallQual</th>\n",
       "      <th>GrLivArea</th>\n",
       "      <th>BedroomAbvGr</th>\n",
       "      <th>GarageArea</th>\n",
       "    </tr>\n",
       "  </thead>\n",
       "  <tbody>\n",
       "    <tr>\n",
       "      <th>1199</th>\n",
       "      <td>4</td>\n",
       "      <td>1382</td>\n",
       "      <td>3</td>\n",
       "      <td>459</td>\n",
       "    </tr>\n",
       "    <tr>\n",
       "      <th>1232</th>\n",
       "      <td>4</td>\n",
       "      <td>1224</td>\n",
       "      <td>2</td>\n",
       "      <td>462</td>\n",
       "    </tr>\n",
       "    <tr>\n",
       "      <th>1114</th>\n",
       "      <td>5</td>\n",
       "      <td>833</td>\n",
       "      <td>2</td>\n",
       "      <td>326</td>\n",
       "    </tr>\n",
       "    <tr>\n",
       "      <th>435</th>\n",
       "      <td>7</td>\n",
       "      <td>1661</td>\n",
       "      <td>3</td>\n",
       "      <td>550</td>\n",
       "    </tr>\n",
       "    <tr>\n",
       "      <th>920</th>\n",
       "      <td>6</td>\n",
       "      <td>1721</td>\n",
       "      <td>3</td>\n",
       "      <td>471</td>\n",
       "    </tr>\n",
       "    <tr>\n",
       "      <th>1203</th>\n",
       "      <td>7</td>\n",
       "      <td>1630</td>\n",
       "      <td>3</td>\n",
       "      <td>451</td>\n",
       "    </tr>\n",
       "  </tbody>\n",
       "</table>\n",
       "</div>"
      ],
      "text/plain": [
       "      OverallQual  GrLivArea  BedroomAbvGr  GarageArea\n",
       "1199            4       1382             3         459\n",
       "1232            4       1224             2         462\n",
       "1114            5        833             2         326\n",
       "435             7       1661             3         550\n",
       "920             6       1721             3         471\n",
       "1203            7       1630             3         451"
      ]
     },
     "execution_count": 26,
     "metadata": {},
     "output_type": "execute_result"
    }
   ],
   "source": [
    "features_to_scale_test = [ 'OverallQual', 'GrLivArea', 'BedroomAbvGr', 'GarageArea']\n",
    "X_test[features_to_scale_test].head(6)"
   ]
  },
  {
   "cell_type": "code",
   "execution_count": 27,
   "id": "0e726586",
   "metadata": {},
   "outputs": [
    {
     "data": {
      "text/html": [
       "<div>\n",
       "<style scoped>\n",
       "    .dataframe tbody tr th:only-of-type {\n",
       "        vertical-align: middle;\n",
       "    }\n",
       "\n",
       "    .dataframe tbody tr th {\n",
       "        vertical-align: top;\n",
       "    }\n",
       "\n",
       "    .dataframe thead th {\n",
       "        text-align: right;\n",
       "    }\n",
       "</style>\n",
       "<table border=\"1\" class=\"dataframe\">\n",
       "  <thead>\n",
       "    <tr style=\"text-align: right;\">\n",
       "      <th></th>\n",
       "      <th>OverallQual</th>\n",
       "      <th>GrLivArea</th>\n",
       "      <th>BedroomAbvGr</th>\n",
       "      <th>GarageArea</th>\n",
       "      <th>SaleCondition</th>\n",
       "      <th>LotShape_IR1</th>\n",
       "      <th>LotShape_IR2</th>\n",
       "      <th>LotShape_IR3</th>\n",
       "      <th>LotShape_Reg</th>\n",
       "    </tr>\n",
       "  </thead>\n",
       "  <tbody>\n",
       "    <tr>\n",
       "      <th>1199</th>\n",
       "      <td>-1.501450</td>\n",
       "      <td>-0.257755</td>\n",
       "      <td>0.159405</td>\n",
       "      <td>-0.077535</td>\n",
       "      <td>4.0</td>\n",
       "      <td>0</td>\n",
       "      <td>0</td>\n",
       "      <td>0</td>\n",
       "      <td>1</td>\n",
       "    </tr>\n",
       "    <tr>\n",
       "      <th>1232</th>\n",
       "      <td>-1.501450</td>\n",
       "      <td>-0.553323</td>\n",
       "      <td>-1.074779</td>\n",
       "      <td>-0.063461</td>\n",
       "      <td>4.0</td>\n",
       "      <td>0</td>\n",
       "      <td>0</td>\n",
       "      <td>0</td>\n",
       "      <td>1</td>\n",
       "    </tr>\n",
       "    <tr>\n",
       "      <th>1114</th>\n",
       "      <td>-0.786074</td>\n",
       "      <td>-1.284759</td>\n",
       "      <td>-1.074779</td>\n",
       "      <td>-0.701479</td>\n",
       "      <td>4.0</td>\n",
       "      <td>0</td>\n",
       "      <td>0</td>\n",
       "      <td>0</td>\n",
       "      <td>1</td>\n",
       "    </tr>\n",
       "    <tr>\n",
       "      <th>435</th>\n",
       "      <td>0.644678</td>\n",
       "      <td>0.264165</td>\n",
       "      <td>0.159405</td>\n",
       "      <td>0.349374</td>\n",
       "      <td>4.0</td>\n",
       "      <td>0</td>\n",
       "      <td>1</td>\n",
       "      <td>0</td>\n",
       "      <td>0</td>\n",
       "    </tr>\n",
       "    <tr>\n",
       "      <th>920</th>\n",
       "      <td>-0.070698</td>\n",
       "      <td>0.376406</td>\n",
       "      <td>0.159405</td>\n",
       "      <td>-0.021239</td>\n",
       "      <td>4.0</td>\n",
       "      <td>1</td>\n",
       "      <td>0</td>\n",
       "      <td>0</td>\n",
       "      <td>0</td>\n",
       "    </tr>\n",
       "    <tr>\n",
       "      <th>1203</th>\n",
       "      <td>0.644678</td>\n",
       "      <td>0.206174</td>\n",
       "      <td>0.159405</td>\n",
       "      <td>-0.115066</td>\n",
       "      <td>4.0</td>\n",
       "      <td>0</td>\n",
       "      <td>0</td>\n",
       "      <td>0</td>\n",
       "      <td>1</td>\n",
       "    </tr>\n",
       "  </tbody>\n",
       "</table>\n",
       "</div>"
      ],
      "text/plain": [
       "      OverallQual  GrLivArea  BedroomAbvGr  GarageArea  SaleCondition  \\\n",
       "1199    -1.501450  -0.257755      0.159405   -0.077535            4.0   \n",
       "1232    -1.501450  -0.553323     -1.074779   -0.063461            4.0   \n",
       "1114    -0.786074  -1.284759     -1.074779   -0.701479            4.0   \n",
       "435      0.644678   0.264165      0.159405    0.349374            4.0   \n",
       "920     -0.070698   0.376406      0.159405   -0.021239            4.0   \n",
       "1203     0.644678   0.206174      0.159405   -0.115066            4.0   \n",
       "\n",
       "      LotShape_IR1  LotShape_IR2  LotShape_IR3  LotShape_Reg  \n",
       "1199             0             0             0             1  \n",
       "1232             0             0             0             1  \n",
       "1114             0             0             0             1  \n",
       "435              0             1             0             0  \n",
       "920              1             0             0             0  \n",
       "1203             0             0             0             1  "
      ]
     },
     "execution_count": 27,
     "metadata": {},
     "output_type": "execute_result"
    }
   ],
   "source": [
    "from sklearn.preprocessing import StandardScaler\n",
    "\n",
    "scaler = StandardScaler()\n",
    "X_test.loc[:,features_to_scale_test] = scaler.fit_transform(X_test[features_to_scale_test])\n",
    "X_test.head(6)"
   ]
  },
  {
   "cell_type": "code",
   "execution_count": 28,
   "id": "82fcc1cd",
   "metadata": {},
   "outputs": [
    {
     "data": {
      "text/plain": [
       "SVC(kernel='linear')"
      ]
     },
     "execution_count": 28,
     "metadata": {},
     "output_type": "execute_result"
    }
   ],
   "source": [
    "model.fit(X_test, y_test)"
   ]
  },
  {
   "cell_type": "code",
   "execution_count": 29,
   "id": "00c26694",
   "metadata": {},
   "outputs": [
    {
     "data": {
      "text/plain": [
       "array([115000, 140000, 115000, ..., 127500, 127000, 140000])"
      ]
     },
     "execution_count": 29,
     "metadata": {},
     "output_type": "execute_result"
    }
   ],
   "source": [
    "y_pred = model.predict(X_test)\n",
    "y_pred"
   ]
  },
  {
   "cell_type": "code",
   "execution_count": 30,
   "id": "a29e28fa",
   "metadata": {},
   "outputs": [
    {
     "data": {
      "text/plain": [
       "0.19"
      ]
     },
     "execution_count": 30,
     "metadata": {},
     "output_type": "execute_result"
    }
   ],
   "source": [
    "from sklearn.metrics import mean_squared_log_error\n",
    "\n",
    "def compute_rmsle(y_test: np.ndarray, y_pred: np.ndarray, precision: int = 2) -> float:\n",
    "    rmsle = np.sqrt(mean_squared_log_error(y_test, y_pred))\n",
    "    return round(rmsle, precision)\n",
    "compute_rmsle(y_test, y_pred)"
   ]
  },
  {
   "cell_type": "markdown",
   "id": "ec87f6bd",
   "metadata": {},
   "source": [
    "## Model inference"
   ]
  },
  {
   "cell_type": "code",
   "execution_count": 31,
   "id": "19285360",
   "metadata": {},
   "outputs": [
    {
     "data": {
      "text/html": [
       "<div>\n",
       "<style scoped>\n",
       "    .dataframe tbody tr th:only-of-type {\n",
       "        vertical-align: middle;\n",
       "    }\n",
       "\n",
       "    .dataframe tbody tr th {\n",
       "        vertical-align: top;\n",
       "    }\n",
       "\n",
       "    .dataframe thead th {\n",
       "        text-align: right;\n",
       "    }\n",
       "</style>\n",
       "<table border=\"1\" class=\"dataframe\">\n",
       "  <thead>\n",
       "    <tr style=\"text-align: right;\">\n",
       "      <th></th>\n",
       "      <th>Id</th>\n",
       "      <th>MSSubClass</th>\n",
       "      <th>MSZoning</th>\n",
       "      <th>LotFrontage</th>\n",
       "      <th>LotArea</th>\n",
       "      <th>Street</th>\n",
       "      <th>Alley</th>\n",
       "      <th>LotShape</th>\n",
       "      <th>LandContour</th>\n",
       "      <th>Utilities</th>\n",
       "      <th>...</th>\n",
       "      <th>ScreenPorch</th>\n",
       "      <th>PoolArea</th>\n",
       "      <th>PoolQC</th>\n",
       "      <th>Fence</th>\n",
       "      <th>MiscFeature</th>\n",
       "      <th>MiscVal</th>\n",
       "      <th>MoSold</th>\n",
       "      <th>YrSold</th>\n",
       "      <th>SaleType</th>\n",
       "      <th>SaleCondition</th>\n",
       "    </tr>\n",
       "  </thead>\n",
       "  <tbody>\n",
       "    <tr>\n",
       "      <th>470</th>\n",
       "      <td>1931</td>\n",
       "      <td>85</td>\n",
       "      <td>RL</td>\n",
       "      <td>70.0</td>\n",
       "      <td>7669</td>\n",
       "      <td>Pave</td>\n",
       "      <td>NaN</td>\n",
       "      <td>Reg</td>\n",
       "      <td>Lvl</td>\n",
       "      <td>AllPub</td>\n",
       "      <td>...</td>\n",
       "      <td>0</td>\n",
       "      <td>0</td>\n",
       "      <td>NaN</td>\n",
       "      <td>GdPrv</td>\n",
       "      <td>NaN</td>\n",
       "      <td>0</td>\n",
       "      <td>6</td>\n",
       "      <td>2009</td>\n",
       "      <td>WD</td>\n",
       "      <td>Normal</td>\n",
       "    </tr>\n",
       "    <tr>\n",
       "      <th>111</th>\n",
       "      <td>1572</td>\n",
       "      <td>20</td>\n",
       "      <td>RL</td>\n",
       "      <td>75.0</td>\n",
       "      <td>9525</td>\n",
       "      <td>Pave</td>\n",
       "      <td>NaN</td>\n",
       "      <td>Reg</td>\n",
       "      <td>Lvl</td>\n",
       "      <td>AllPub</td>\n",
       "      <td>...</td>\n",
       "      <td>0</td>\n",
       "      <td>0</td>\n",
       "      <td>NaN</td>\n",
       "      <td>NaN</td>\n",
       "      <td>NaN</td>\n",
       "      <td>0</td>\n",
       "      <td>6</td>\n",
       "      <td>2010</td>\n",
       "      <td>WD</td>\n",
       "      <td>Normal</td>\n",
       "    </tr>\n",
       "    <tr>\n",
       "      <th>1380</th>\n",
       "      <td>2841</td>\n",
       "      <td>60</td>\n",
       "      <td>RL</td>\n",
       "      <td>68.0</td>\n",
       "      <td>9272</td>\n",
       "      <td>Pave</td>\n",
       "      <td>NaN</td>\n",
       "      <td>IR1</td>\n",
       "      <td>Lvl</td>\n",
       "      <td>AllPub</td>\n",
       "      <td>...</td>\n",
       "      <td>0</td>\n",
       "      <td>0</td>\n",
       "      <td>NaN</td>\n",
       "      <td>NaN</td>\n",
       "      <td>NaN</td>\n",
       "      <td>0</td>\n",
       "      <td>6</td>\n",
       "      <td>2006</td>\n",
       "      <td>WD</td>\n",
       "      <td>Normal</td>\n",
       "    </tr>\n",
       "    <tr>\n",
       "      <th>1359</th>\n",
       "      <td>2820</td>\n",
       "      <td>20</td>\n",
       "      <td>RL</td>\n",
       "      <td>75.0</td>\n",
       "      <td>9375</td>\n",
       "      <td>Pave</td>\n",
       "      <td>NaN</td>\n",
       "      <td>Reg</td>\n",
       "      <td>Lvl</td>\n",
       "      <td>AllPub</td>\n",
       "      <td>...</td>\n",
       "      <td>0</td>\n",
       "      <td>0</td>\n",
       "      <td>NaN</td>\n",
       "      <td>NaN</td>\n",
       "      <td>NaN</td>\n",
       "      <td>0</td>\n",
       "      <td>6</td>\n",
       "      <td>2006</td>\n",
       "      <td>WD</td>\n",
       "      <td>Normal</td>\n",
       "    </tr>\n",
       "    <tr>\n",
       "      <th>1247</th>\n",
       "      <td>2708</td>\n",
       "      <td>20</td>\n",
       "      <td>RL</td>\n",
       "      <td>NaN</td>\n",
       "      <td>13052</td>\n",
       "      <td>Pave</td>\n",
       "      <td>NaN</td>\n",
       "      <td>IR1</td>\n",
       "      <td>Lvl</td>\n",
       "      <td>AllPub</td>\n",
       "      <td>...</td>\n",
       "      <td>0</td>\n",
       "      <td>0</td>\n",
       "      <td>NaN</td>\n",
       "      <td>MnPrv</td>\n",
       "      <td>NaN</td>\n",
       "      <td>0</td>\n",
       "      <td>1</td>\n",
       "      <td>2006</td>\n",
       "      <td>WD</td>\n",
       "      <td>Normal</td>\n",
       "    </tr>\n",
       "    <tr>\n",
       "      <th>237</th>\n",
       "      <td>1698</td>\n",
       "      <td>60</td>\n",
       "      <td>RL</td>\n",
       "      <td>106.0</td>\n",
       "      <td>12720</td>\n",
       "      <td>Pave</td>\n",
       "      <td>NaN</td>\n",
       "      <td>Reg</td>\n",
       "      <td>Lvl</td>\n",
       "      <td>AllPub</td>\n",
       "      <td>...</td>\n",
       "      <td>0</td>\n",
       "      <td>0</td>\n",
       "      <td>NaN</td>\n",
       "      <td>NaN</td>\n",
       "      <td>NaN</td>\n",
       "      <td>0</td>\n",
       "      <td>9</td>\n",
       "      <td>2009</td>\n",
       "      <td>WD</td>\n",
       "      <td>Normal</td>\n",
       "    </tr>\n",
       "  </tbody>\n",
       "</table>\n",
       "<p>6 rows × 80 columns</p>\n",
       "</div>"
      ],
      "text/plain": [
       "        Id  MSSubClass MSZoning  LotFrontage  LotArea Street Alley LotShape  \\\n",
       "470   1931          85       RL         70.0     7669   Pave   NaN      Reg   \n",
       "111   1572          20       RL         75.0     9525   Pave   NaN      Reg   \n",
       "1380  2841          60       RL         68.0     9272   Pave   NaN      IR1   \n",
       "1359  2820          20       RL         75.0     9375   Pave   NaN      Reg   \n",
       "1247  2708          20       RL          NaN    13052   Pave   NaN      IR1   \n",
       "237   1698          60       RL        106.0    12720   Pave   NaN      Reg   \n",
       "\n",
       "     LandContour Utilities  ... ScreenPorch PoolArea PoolQC  Fence  \\\n",
       "470          Lvl    AllPub  ...           0        0    NaN  GdPrv   \n",
       "111          Lvl    AllPub  ...           0        0    NaN    NaN   \n",
       "1380         Lvl    AllPub  ...           0        0    NaN    NaN   \n",
       "1359         Lvl    AllPub  ...           0        0    NaN    NaN   \n",
       "1247         Lvl    AllPub  ...           0        0    NaN  MnPrv   \n",
       "237          Lvl    AllPub  ...           0        0    NaN    NaN   \n",
       "\n",
       "     MiscFeature MiscVal MoSold  YrSold  SaleType  SaleCondition  \n",
       "470          NaN       0      6    2009        WD         Normal  \n",
       "111          NaN       0      6    2010        WD         Normal  \n",
       "1380         NaN       0      6    2006        WD         Normal  \n",
       "1359         NaN       0      6    2006        WD         Normal  \n",
       "1247         NaN       0      1    2006        WD         Normal  \n",
       "237          NaN       0      9    2009        WD         Normal  \n",
       "\n",
       "[6 rows x 80 columns]"
      ]
     },
     "execution_count": 31,
     "metadata": {},
     "output_type": "execute_result"
    }
   ],
   "source": [
    "df = pd.read_csv('/Users/yeqinghua/Documents/dsp-dataset/house price/test.csv')\n",
    "df.sample(n=6)"
   ]
  },
  {
   "cell_type": "code",
   "execution_count": 32,
   "id": "5afe96dd",
   "metadata": {},
   "outputs": [
    {
     "data": {
      "text/html": [
       "<div>\n",
       "<style scoped>\n",
       "    .dataframe tbody tr th:only-of-type {\n",
       "        vertical-align: middle;\n",
       "    }\n",
       "\n",
       "    .dataframe tbody tr th {\n",
       "        vertical-align: top;\n",
       "    }\n",
       "\n",
       "    .dataframe thead th {\n",
       "        text-align: right;\n",
       "    }\n",
       "</style>\n",
       "<table border=\"1\" class=\"dataframe\">\n",
       "  <thead>\n",
       "    <tr style=\"text-align: right;\">\n",
       "      <th></th>\n",
       "      <th>OverallQual</th>\n",
       "      <th>GrLivArea</th>\n",
       "      <th>BedroomAbvGr</th>\n",
       "      <th>GarageArea</th>\n",
       "      <th>LotShape</th>\n",
       "      <th>SaleCondition</th>\n",
       "    </tr>\n",
       "  </thead>\n",
       "  <tbody>\n",
       "    <tr>\n",
       "      <th>0</th>\n",
       "      <td>5</td>\n",
       "      <td>896</td>\n",
       "      <td>2</td>\n",
       "      <td>730.0</td>\n",
       "      <td>Reg</td>\n",
       "      <td>Normal</td>\n",
       "    </tr>\n",
       "    <tr>\n",
       "      <th>1</th>\n",
       "      <td>6</td>\n",
       "      <td>1329</td>\n",
       "      <td>3</td>\n",
       "      <td>312.0</td>\n",
       "      <td>IR1</td>\n",
       "      <td>Normal</td>\n",
       "    </tr>\n",
       "    <tr>\n",
       "      <th>2</th>\n",
       "      <td>5</td>\n",
       "      <td>1629</td>\n",
       "      <td>3</td>\n",
       "      <td>482.0</td>\n",
       "      <td>IR1</td>\n",
       "      <td>Normal</td>\n",
       "    </tr>\n",
       "    <tr>\n",
       "      <th>3</th>\n",
       "      <td>6</td>\n",
       "      <td>1604</td>\n",
       "      <td>3</td>\n",
       "      <td>470.0</td>\n",
       "      <td>IR1</td>\n",
       "      <td>Normal</td>\n",
       "    </tr>\n",
       "    <tr>\n",
       "      <th>4</th>\n",
       "      <td>8</td>\n",
       "      <td>1280</td>\n",
       "      <td>2</td>\n",
       "      <td>506.0</td>\n",
       "      <td>IR1</td>\n",
       "      <td>Normal</td>\n",
       "    </tr>\n",
       "  </tbody>\n",
       "</table>\n",
       "</div>"
      ],
      "text/plain": [
       "   OverallQual  GrLivArea  BedroomAbvGr  GarageArea LotShape SaleCondition\n",
       "0            5        896             2       730.0      Reg        Normal\n",
       "1            6       1329             3       312.0      IR1        Normal\n",
       "2            5       1629             3       482.0      IR1        Normal\n",
       "3            6       1604             3       470.0      IR1        Normal\n",
       "4            8       1280             2       506.0      IR1        Normal"
      ]
     },
     "execution_count": 32,
     "metadata": {},
     "output_type": "execute_result"
    }
   ],
   "source": [
    "inference_data = df[['OverallQual', 'GrLivArea', 'BedroomAbvGr', 'GarageArea', 'LotShape', 'SaleCondition']]\n",
    "inference_data.head(5)"
   ]
  },
  {
   "cell_type": "code",
   "execution_count": 33,
   "id": "723403dd",
   "metadata": {},
   "outputs": [
    {
     "data": {
      "text/plain": [
       "OverallQual      0\n",
       "GrLivArea        0\n",
       "BedroomAbvGr     0\n",
       "GarageArea       1\n",
       "LotShape         0\n",
       "SaleCondition    0\n",
       "dtype: int64"
      ]
     },
     "execution_count": 33,
     "metadata": {},
     "output_type": "execute_result"
    }
   ],
   "source": [
    "inference_data.isnull().sum()"
   ]
  },
  {
   "cell_type": "code",
   "execution_count": 34,
   "id": "dbd07fa7",
   "metadata": {},
   "outputs": [],
   "source": [
    "inference_data = inference_data.dropna(axis=0, how='any')"
   ]
  },
  {
   "cell_type": "code",
   "execution_count": 35,
   "id": "81564dc2",
   "metadata": {},
   "outputs": [
    {
     "data": {
      "text/plain": [
       "OverallQual      0\n",
       "GrLivArea        0\n",
       "BedroomAbvGr     0\n",
       "GarageArea       0\n",
       "LotShape         0\n",
       "SaleCondition    0\n",
       "dtype: int64"
      ]
     },
     "execution_count": 35,
     "metadata": {},
     "output_type": "execute_result"
    }
   ],
   "source": [
    "inference_data.isnull().sum()"
   ]
  },
  {
   "cell_type": "code",
   "execution_count": 36,
   "id": "87446e23",
   "metadata": {},
   "outputs": [],
   "source": [
    "inference_data_to_encode = inference_data[['OverallQual', 'GrLivArea', 'BedroomAbvGr', 'GarageArea', 'LotShape', 'SaleCondition']]\n",
    "inference_data_to_scale = inference_data[['OverallQual', 'GrLivArea', 'BedroomAbvGr', 'GarageArea', 'LotShape', 'SaleCondition']]"
   ]
  },
  {
   "cell_type": "code",
   "execution_count": 37,
   "id": "29ed8839",
   "metadata": {},
   "outputs": [
    {
     "data": {
      "text/html": [
       "<div>\n",
       "<style scoped>\n",
       "    .dataframe tbody tr th:only-of-type {\n",
       "        vertical-align: middle;\n",
       "    }\n",
       "\n",
       "    .dataframe tbody tr th {\n",
       "        vertical-align: top;\n",
       "    }\n",
       "\n",
       "    .dataframe thead th {\n",
       "        text-align: right;\n",
       "    }\n",
       "</style>\n",
       "<table border=\"1\" class=\"dataframe\">\n",
       "  <thead>\n",
       "    <tr style=\"text-align: right;\">\n",
       "      <th></th>\n",
       "      <th>OverallQual</th>\n",
       "      <th>GrLivArea</th>\n",
       "      <th>BedroomAbvGr</th>\n",
       "      <th>GarageArea</th>\n",
       "      <th>LotShape</th>\n",
       "      <th>SaleCondition</th>\n",
       "    </tr>\n",
       "  </thead>\n",
       "  <tbody>\n",
       "    <tr>\n",
       "      <th>0</th>\n",
       "      <td>5</td>\n",
       "      <td>896</td>\n",
       "      <td>2</td>\n",
       "      <td>730.0</td>\n",
       "      <td>Reg</td>\n",
       "      <td>4.0</td>\n",
       "    </tr>\n",
       "    <tr>\n",
       "      <th>1</th>\n",
       "      <td>6</td>\n",
       "      <td>1329</td>\n",
       "      <td>3</td>\n",
       "      <td>312.0</td>\n",
       "      <td>IR1</td>\n",
       "      <td>4.0</td>\n",
       "    </tr>\n",
       "    <tr>\n",
       "      <th>2</th>\n",
       "      <td>5</td>\n",
       "      <td>1629</td>\n",
       "      <td>3</td>\n",
       "      <td>482.0</td>\n",
       "      <td>IR1</td>\n",
       "      <td>4.0</td>\n",
       "    </tr>\n",
       "    <tr>\n",
       "      <th>3</th>\n",
       "      <td>6</td>\n",
       "      <td>1604</td>\n",
       "      <td>3</td>\n",
       "      <td>470.0</td>\n",
       "      <td>IR1</td>\n",
       "      <td>4.0</td>\n",
       "    </tr>\n",
       "    <tr>\n",
       "      <th>4</th>\n",
       "      <td>8</td>\n",
       "      <td>1280</td>\n",
       "      <td>2</td>\n",
       "      <td>506.0</td>\n",
       "      <td>IR1</td>\n",
       "      <td>4.0</td>\n",
       "    </tr>\n",
       "    <tr>\n",
       "      <th>5</th>\n",
       "      <td>6</td>\n",
       "      <td>1655</td>\n",
       "      <td>3</td>\n",
       "      <td>440.0</td>\n",
       "      <td>IR1</td>\n",
       "      <td>4.0</td>\n",
       "    </tr>\n",
       "  </tbody>\n",
       "</table>\n",
       "</div>"
      ],
      "text/plain": [
       "   OverallQual  GrLivArea  BedroomAbvGr  GarageArea LotShape  SaleCondition\n",
       "0            5        896             2       730.0      Reg            4.0\n",
       "1            6       1329             3       312.0      IR1            4.0\n",
       "2            5       1629             3       482.0      IR1            4.0\n",
       "3            6       1604             3       470.0      IR1            4.0\n",
       "4            8       1280             2       506.0      IR1            4.0\n",
       "5            6       1655             3       440.0      IR1            4.0"
      ]
     },
     "execution_count": 37,
     "metadata": {},
     "output_type": "execute_result"
    }
   ],
   "source": [
    "from sklearn.preprocessing import OrdinalEncoder\n",
    "\n",
    "inference_data['SaleCondition'] = ordinal_encoder.transform(inference_data[['SaleCondition']])\n",
    "inference_data.head(6)"
   ]
  },
  {
   "cell_type": "code",
   "execution_count": 38,
   "id": "3d4f6c71",
   "metadata": {},
   "outputs": [
    {
     "data": {
      "text/plain": [
       "OneHotEncoder(dtype=<class 'int'>, sparse=False)"
      ]
     },
     "execution_count": 38,
     "metadata": {},
     "output_type": "execute_result"
    }
   ],
   "source": [
    "from sklearn.preprocessing import OneHotEncoder\n",
    "\n",
    "one_hot_encoder = OneHotEncoder(handle_unknown='error', dtype=int, sparse=False)\n",
    "one_hot_encoder.fit(inference_data['LotShape'].values.reshape(-1,1))"
   ]
  },
  {
   "cell_type": "code",
   "execution_count": 39,
   "id": "30b8efd0",
   "metadata": {},
   "outputs": [
    {
     "data": {
      "text/plain": [
       "array([[0, 0, 0, 1],\n",
       "       [1, 0, 0, 0],\n",
       "       [1, 0, 0, 0],\n",
       "       ...,\n",
       "       [0, 0, 0, 1],\n",
       "       [0, 0, 0, 1],\n",
       "       [0, 0, 0, 1]])"
      ]
     },
     "execution_count": 39,
     "metadata": {},
     "output_type": "execute_result"
    }
   ],
   "source": [
    "encoded_lotShape_inference = encoder.transform(inference_data['LotShape'].values.reshape(-1,1))\n",
    "encoded_lotShape_inference"
   ]
  },
  {
   "cell_type": "code",
   "execution_count": 40,
   "id": "f98270e9",
   "metadata": {},
   "outputs": [
    {
     "data": {
      "text/plain": [
       "array(['LotShape_IR1', 'LotShape_IR2', 'LotShape_IR3', 'LotShape_Reg'],\n",
       "      dtype=object)"
      ]
     },
     "execution_count": 40,
     "metadata": {},
     "output_type": "execute_result"
    }
   ],
   "source": [
    "encoded_lotShape_columns_inference = encoder.get_feature_names_out(inference_data[['LotShape']].columns)\n",
    "encoded_lotShape_columns_inference"
   ]
  },
  {
   "cell_type": "code",
   "execution_count": 41,
   "id": "86e67bbe",
   "metadata": {},
   "outputs": [
    {
     "data": {
      "text/html": [
       "<div>\n",
       "<style scoped>\n",
       "    .dataframe tbody tr th:only-of-type {\n",
       "        vertical-align: middle;\n",
       "    }\n",
       "\n",
       "    .dataframe tbody tr th {\n",
       "        vertical-align: top;\n",
       "    }\n",
       "\n",
       "    .dataframe thead th {\n",
       "        text-align: right;\n",
       "    }\n",
       "</style>\n",
       "<table border=\"1\" class=\"dataframe\">\n",
       "  <thead>\n",
       "    <tr style=\"text-align: right;\">\n",
       "      <th></th>\n",
       "      <th>LotShape_IR1</th>\n",
       "      <th>LotShape_IR2</th>\n",
       "      <th>LotShape_IR3</th>\n",
       "      <th>LotShape_Reg</th>\n",
       "    </tr>\n",
       "  </thead>\n",
       "  <tbody>\n",
       "    <tr>\n",
       "      <th>0</th>\n",
       "      <td>0</td>\n",
       "      <td>0</td>\n",
       "      <td>0</td>\n",
       "      <td>1</td>\n",
       "    </tr>\n",
       "    <tr>\n",
       "      <th>1</th>\n",
       "      <td>1</td>\n",
       "      <td>0</td>\n",
       "      <td>0</td>\n",
       "      <td>0</td>\n",
       "    </tr>\n",
       "    <tr>\n",
       "      <th>2</th>\n",
       "      <td>1</td>\n",
       "      <td>0</td>\n",
       "      <td>0</td>\n",
       "      <td>0</td>\n",
       "    </tr>\n",
       "    <tr>\n",
       "      <th>3</th>\n",
       "      <td>1</td>\n",
       "      <td>0</td>\n",
       "      <td>0</td>\n",
       "      <td>0</td>\n",
       "    </tr>\n",
       "    <tr>\n",
       "      <th>4</th>\n",
       "      <td>1</td>\n",
       "      <td>0</td>\n",
       "      <td>0</td>\n",
       "      <td>0</td>\n",
       "    </tr>\n",
       "  </tbody>\n",
       "</table>\n",
       "</div>"
      ],
      "text/plain": [
       "   LotShape_IR1  LotShape_IR2  LotShape_IR3  LotShape_Reg\n",
       "0             0             0             0             1\n",
       "1             1             0             0             0\n",
       "2             1             0             0             0\n",
       "3             1             0             0             0\n",
       "4             1             0             0             0"
      ]
     },
     "execution_count": 41,
     "metadata": {},
     "output_type": "execute_result"
    }
   ],
   "source": [
    "encoded_lotShape_df_inference = pd.DataFrame(data=encoded_lotShape_inference, columns=encoded_lotShape_columns_inference, index=inference_data[['LotShape']].index)\n",
    "encoded_lotShape_df_inference.head(5)"
   ]
  },
  {
   "cell_type": "code",
   "execution_count": 42,
   "id": "1bd56eab",
   "metadata": {},
   "outputs": [
    {
     "data": {
      "text/html": [
       "<div>\n",
       "<style scoped>\n",
       "    .dataframe tbody tr th:only-of-type {\n",
       "        vertical-align: middle;\n",
       "    }\n",
       "\n",
       "    .dataframe tbody tr th {\n",
       "        vertical-align: top;\n",
       "    }\n",
       "\n",
       "    .dataframe thead th {\n",
       "        text-align: right;\n",
       "    }\n",
       "</style>\n",
       "<table border=\"1\" class=\"dataframe\">\n",
       "  <thead>\n",
       "    <tr style=\"text-align: right;\">\n",
       "      <th></th>\n",
       "      <th>OverallQual</th>\n",
       "      <th>GrLivArea</th>\n",
       "      <th>BedroomAbvGr</th>\n",
       "      <th>GarageArea</th>\n",
       "      <th>LotShape</th>\n",
       "      <th>SaleCondition</th>\n",
       "      <th>LotShape_IR1</th>\n",
       "      <th>LotShape_IR2</th>\n",
       "      <th>LotShape_IR3</th>\n",
       "      <th>LotShape_Reg</th>\n",
       "    </tr>\n",
       "  </thead>\n",
       "  <tbody>\n",
       "    <tr>\n",
       "      <th>0</th>\n",
       "      <td>5</td>\n",
       "      <td>896</td>\n",
       "      <td>2</td>\n",
       "      <td>730.0</td>\n",
       "      <td>Reg</td>\n",
       "      <td>4.0</td>\n",
       "      <td>0</td>\n",
       "      <td>0</td>\n",
       "      <td>0</td>\n",
       "      <td>1</td>\n",
       "    </tr>\n",
       "    <tr>\n",
       "      <th>1</th>\n",
       "      <td>6</td>\n",
       "      <td>1329</td>\n",
       "      <td>3</td>\n",
       "      <td>312.0</td>\n",
       "      <td>IR1</td>\n",
       "      <td>4.0</td>\n",
       "      <td>1</td>\n",
       "      <td>0</td>\n",
       "      <td>0</td>\n",
       "      <td>0</td>\n",
       "    </tr>\n",
       "    <tr>\n",
       "      <th>2</th>\n",
       "      <td>5</td>\n",
       "      <td>1629</td>\n",
       "      <td>3</td>\n",
       "      <td>482.0</td>\n",
       "      <td>IR1</td>\n",
       "      <td>4.0</td>\n",
       "      <td>1</td>\n",
       "      <td>0</td>\n",
       "      <td>0</td>\n",
       "      <td>0</td>\n",
       "    </tr>\n",
       "    <tr>\n",
       "      <th>3</th>\n",
       "      <td>6</td>\n",
       "      <td>1604</td>\n",
       "      <td>3</td>\n",
       "      <td>470.0</td>\n",
       "      <td>IR1</td>\n",
       "      <td>4.0</td>\n",
       "      <td>1</td>\n",
       "      <td>0</td>\n",
       "      <td>0</td>\n",
       "      <td>0</td>\n",
       "    </tr>\n",
       "    <tr>\n",
       "      <th>4</th>\n",
       "      <td>8</td>\n",
       "      <td>1280</td>\n",
       "      <td>2</td>\n",
       "      <td>506.0</td>\n",
       "      <td>IR1</td>\n",
       "      <td>4.0</td>\n",
       "      <td>1</td>\n",
       "      <td>0</td>\n",
       "      <td>0</td>\n",
       "      <td>0</td>\n",
       "    </tr>\n",
       "  </tbody>\n",
       "</table>\n",
       "</div>"
      ],
      "text/plain": [
       "   OverallQual  GrLivArea  BedroomAbvGr  GarageArea LotShape  SaleCondition  \\\n",
       "0            5        896             2       730.0      Reg            4.0   \n",
       "1            6       1329             3       312.0      IR1            4.0   \n",
       "2            5       1629             3       482.0      IR1            4.0   \n",
       "3            6       1604             3       470.0      IR1            4.0   \n",
       "4            8       1280             2       506.0      IR1            4.0   \n",
       "\n",
       "   LotShape_IR1  LotShape_IR2  LotShape_IR3  LotShape_Reg  \n",
       "0             0             0             0             1  \n",
       "1             1             0             0             0  \n",
       "2             1             0             0             0  \n",
       "3             1             0             0             0  \n",
       "4             1             0             0             0  "
      ]
     },
     "execution_count": 42,
     "metadata": {},
     "output_type": "execute_result"
    }
   ],
   "source": [
    "inference_data = inference_data.copy().join(encoded_lotShape_df_inference)\n",
    "inference_data.head(5)"
   ]
  },
  {
   "cell_type": "code",
   "execution_count": 43,
   "id": "3846a518",
   "metadata": {},
   "outputs": [
    {
     "data": {
      "text/html": [
       "<div>\n",
       "<style scoped>\n",
       "    .dataframe tbody tr th:only-of-type {\n",
       "        vertical-align: middle;\n",
       "    }\n",
       "\n",
       "    .dataframe tbody tr th {\n",
       "        vertical-align: top;\n",
       "    }\n",
       "\n",
       "    .dataframe thead th {\n",
       "        text-align: right;\n",
       "    }\n",
       "</style>\n",
       "<table border=\"1\" class=\"dataframe\">\n",
       "  <thead>\n",
       "    <tr style=\"text-align: right;\">\n",
       "      <th></th>\n",
       "      <th>OverallQual</th>\n",
       "      <th>GrLivArea</th>\n",
       "      <th>BedroomAbvGr</th>\n",
       "      <th>GarageArea</th>\n",
       "      <th>SaleCondition</th>\n",
       "      <th>LotShape_IR1</th>\n",
       "      <th>LotShape_IR2</th>\n",
       "      <th>LotShape_IR3</th>\n",
       "      <th>LotShape_Reg</th>\n",
       "    </tr>\n",
       "  </thead>\n",
       "  <tbody>\n",
       "    <tr>\n",
       "      <th>0</th>\n",
       "      <td>5</td>\n",
       "      <td>896</td>\n",
       "      <td>2</td>\n",
       "      <td>730.0</td>\n",
       "      <td>4.0</td>\n",
       "      <td>0</td>\n",
       "      <td>0</td>\n",
       "      <td>0</td>\n",
       "      <td>1</td>\n",
       "    </tr>\n",
       "    <tr>\n",
       "      <th>1</th>\n",
       "      <td>6</td>\n",
       "      <td>1329</td>\n",
       "      <td>3</td>\n",
       "      <td>312.0</td>\n",
       "      <td>4.0</td>\n",
       "      <td>1</td>\n",
       "      <td>0</td>\n",
       "      <td>0</td>\n",
       "      <td>0</td>\n",
       "    </tr>\n",
       "    <tr>\n",
       "      <th>2</th>\n",
       "      <td>5</td>\n",
       "      <td>1629</td>\n",
       "      <td>3</td>\n",
       "      <td>482.0</td>\n",
       "      <td>4.0</td>\n",
       "      <td>1</td>\n",
       "      <td>0</td>\n",
       "      <td>0</td>\n",
       "      <td>0</td>\n",
       "    </tr>\n",
       "    <tr>\n",
       "      <th>3</th>\n",
       "      <td>6</td>\n",
       "      <td>1604</td>\n",
       "      <td>3</td>\n",
       "      <td>470.0</td>\n",
       "      <td>4.0</td>\n",
       "      <td>1</td>\n",
       "      <td>0</td>\n",
       "      <td>0</td>\n",
       "      <td>0</td>\n",
       "    </tr>\n",
       "    <tr>\n",
       "      <th>4</th>\n",
       "      <td>8</td>\n",
       "      <td>1280</td>\n",
       "      <td>2</td>\n",
       "      <td>506.0</td>\n",
       "      <td>4.0</td>\n",
       "      <td>1</td>\n",
       "      <td>0</td>\n",
       "      <td>0</td>\n",
       "      <td>0</td>\n",
       "    </tr>\n",
       "  </tbody>\n",
       "</table>\n",
       "</div>"
      ],
      "text/plain": [
       "   OverallQual  GrLivArea  BedroomAbvGr  GarageArea  SaleCondition  \\\n",
       "0            5        896             2       730.0            4.0   \n",
       "1            6       1329             3       312.0            4.0   \n",
       "2            5       1629             3       482.0            4.0   \n",
       "3            6       1604             3       470.0            4.0   \n",
       "4            8       1280             2       506.0            4.0   \n",
       "\n",
       "   LotShape_IR1  LotShape_IR2  LotShape_IR3  LotShape_Reg  \n",
       "0             0             0             0             1  \n",
       "1             1             0             0             0  \n",
       "2             1             0             0             0  \n",
       "3             1             0             0             0  \n",
       "4             1             0             0             0  "
      ]
     },
     "execution_count": 43,
     "metadata": {},
     "output_type": "execute_result"
    }
   ],
   "source": [
    "inference_data= inference_data.drop('LotShape', axis=1)\n",
    "inference_data.head(5)"
   ]
  },
  {
   "cell_type": "code",
   "execution_count": 44,
   "id": "1f8b17bc",
   "metadata": {},
   "outputs": [
    {
     "data": {
      "text/html": [
       "<div>\n",
       "<style scoped>\n",
       "    .dataframe tbody tr th:only-of-type {\n",
       "        vertical-align: middle;\n",
       "    }\n",
       "\n",
       "    .dataframe tbody tr th {\n",
       "        vertical-align: top;\n",
       "    }\n",
       "\n",
       "    .dataframe thead th {\n",
       "        text-align: right;\n",
       "    }\n",
       "</style>\n",
       "<table border=\"1\" class=\"dataframe\">\n",
       "  <thead>\n",
       "    <tr style=\"text-align: right;\">\n",
       "      <th></th>\n",
       "      <th>OverallQual</th>\n",
       "      <th>GrLivArea</th>\n",
       "      <th>BedroomAbvGr</th>\n",
       "      <th>GarageArea</th>\n",
       "    </tr>\n",
       "  </thead>\n",
       "  <tbody>\n",
       "    <tr>\n",
       "      <th>0</th>\n",
       "      <td>5</td>\n",
       "      <td>896</td>\n",
       "      <td>2</td>\n",
       "      <td>730.0</td>\n",
       "    </tr>\n",
       "    <tr>\n",
       "      <th>1</th>\n",
       "      <td>6</td>\n",
       "      <td>1329</td>\n",
       "      <td>3</td>\n",
       "      <td>312.0</td>\n",
       "    </tr>\n",
       "    <tr>\n",
       "      <th>2</th>\n",
       "      <td>5</td>\n",
       "      <td>1629</td>\n",
       "      <td>3</td>\n",
       "      <td>482.0</td>\n",
       "    </tr>\n",
       "    <tr>\n",
       "      <th>3</th>\n",
       "      <td>6</td>\n",
       "      <td>1604</td>\n",
       "      <td>3</td>\n",
       "      <td>470.0</td>\n",
       "    </tr>\n",
       "    <tr>\n",
       "      <th>4</th>\n",
       "      <td>8</td>\n",
       "      <td>1280</td>\n",
       "      <td>2</td>\n",
       "      <td>506.0</td>\n",
       "    </tr>\n",
       "    <tr>\n",
       "      <th>5</th>\n",
       "      <td>6</td>\n",
       "      <td>1655</td>\n",
       "      <td>3</td>\n",
       "      <td>440.0</td>\n",
       "    </tr>\n",
       "  </tbody>\n",
       "</table>\n",
       "</div>"
      ],
      "text/plain": [
       "   OverallQual  GrLivArea  BedroomAbvGr  GarageArea\n",
       "0            5        896             2       730.0\n",
       "1            6       1329             3       312.0\n",
       "2            5       1629             3       482.0\n",
       "3            6       1604             3       470.0\n",
       "4            8       1280             2       506.0\n",
       "5            6       1655             3       440.0"
      ]
     },
     "execution_count": 44,
     "metadata": {},
     "output_type": "execute_result"
    }
   ],
   "source": [
    "features_to_scale_inference = [ 'OverallQual', 'GrLivArea', 'BedroomAbvGr', 'GarageArea']\n",
    "inference_data[features_to_scale_inference].head(6)"
   ]
  },
  {
   "cell_type": "code",
   "execution_count": 45,
   "id": "6162a2c4",
   "metadata": {},
   "outputs": [
    {
     "data": {
      "text/html": [
       "<div>\n",
       "<style scoped>\n",
       "    .dataframe tbody tr th:only-of-type {\n",
       "        vertical-align: middle;\n",
       "    }\n",
       "\n",
       "    .dataframe tbody tr th {\n",
       "        vertical-align: top;\n",
       "    }\n",
       "\n",
       "    .dataframe thead th {\n",
       "        text-align: right;\n",
       "    }\n",
       "</style>\n",
       "<table border=\"1\" class=\"dataframe\">\n",
       "  <thead>\n",
       "    <tr style=\"text-align: right;\">\n",
       "      <th></th>\n",
       "      <th>OverallQual</th>\n",
       "      <th>GrLivArea</th>\n",
       "      <th>BedroomAbvGr</th>\n",
       "      <th>GarageArea</th>\n",
       "      <th>SaleCondition</th>\n",
       "      <th>LotShape_IR1</th>\n",
       "      <th>LotShape_IR2</th>\n",
       "      <th>LotShape_IR3</th>\n",
       "      <th>LotShape_Reg</th>\n",
       "    </tr>\n",
       "  </thead>\n",
       "  <tbody>\n",
       "    <tr>\n",
       "      <th>0</th>\n",
       "      <td>-0.786074</td>\n",
       "      <td>-1.166906</td>\n",
       "      <td>-1.074779</td>\n",
       "      <td>1.193809</td>\n",
       "      <td>4.0</td>\n",
       "      <td>0</td>\n",
       "      <td>0</td>\n",
       "      <td>0</td>\n",
       "      <td>1</td>\n",
       "    </tr>\n",
       "    <tr>\n",
       "      <th>1</th>\n",
       "      <td>-0.070698</td>\n",
       "      <td>-0.356901</td>\n",
       "      <td>0.159405</td>\n",
       "      <td>-0.767157</td>\n",
       "      <td>4.0</td>\n",
       "      <td>1</td>\n",
       "      <td>0</td>\n",
       "      <td>0</td>\n",
       "      <td>0</td>\n",
       "    </tr>\n",
       "    <tr>\n",
       "      <th>2</th>\n",
       "      <td>-0.786074</td>\n",
       "      <td>0.204303</td>\n",
       "      <td>0.159405</td>\n",
       "      <td>0.030365</td>\n",
       "      <td>4.0</td>\n",
       "      <td>1</td>\n",
       "      <td>0</td>\n",
       "      <td>0</td>\n",
       "      <td>0</td>\n",
       "    </tr>\n",
       "    <tr>\n",
       "      <th>3</th>\n",
       "      <td>-0.070698</td>\n",
       "      <td>0.157536</td>\n",
       "      <td>0.159405</td>\n",
       "      <td>-0.025931</td>\n",
       "      <td>4.0</td>\n",
       "      <td>1</td>\n",
       "      <td>0</td>\n",
       "      <td>0</td>\n",
       "      <td>0</td>\n",
       "    </tr>\n",
       "    <tr>\n",
       "      <th>4</th>\n",
       "      <td>1.360054</td>\n",
       "      <td>-0.448564</td>\n",
       "      <td>-1.074779</td>\n",
       "      <td>0.142956</td>\n",
       "      <td>4.0</td>\n",
       "      <td>1</td>\n",
       "      <td>0</td>\n",
       "      <td>0</td>\n",
       "      <td>0</td>\n",
       "    </tr>\n",
       "    <tr>\n",
       "      <th>5</th>\n",
       "      <td>-0.070698</td>\n",
       "      <td>0.252941</td>\n",
       "      <td>0.159405</td>\n",
       "      <td>-0.166670</td>\n",
       "      <td>4.0</td>\n",
       "      <td>1</td>\n",
       "      <td>0</td>\n",
       "      <td>0</td>\n",
       "      <td>0</td>\n",
       "    </tr>\n",
       "  </tbody>\n",
       "</table>\n",
       "</div>"
      ],
      "text/plain": [
       "   OverallQual  GrLivArea  BedroomAbvGr  GarageArea  SaleCondition  \\\n",
       "0    -0.786074  -1.166906     -1.074779    1.193809            4.0   \n",
       "1    -0.070698  -0.356901      0.159405   -0.767157            4.0   \n",
       "2    -0.786074   0.204303      0.159405    0.030365            4.0   \n",
       "3    -0.070698   0.157536      0.159405   -0.025931            4.0   \n",
       "4     1.360054  -0.448564     -1.074779    0.142956            4.0   \n",
       "5    -0.070698   0.252941      0.159405   -0.166670            4.0   \n",
       "\n",
       "   LotShape_IR1  LotShape_IR2  LotShape_IR3  LotShape_Reg  \n",
       "0             0             0             0             1  \n",
       "1             1             0             0             0  \n",
       "2             1             0             0             0  \n",
       "3             1             0             0             0  \n",
       "4             1             0             0             0  \n",
       "5             1             0             0             0  "
      ]
     },
     "execution_count": 45,
     "metadata": {},
     "output_type": "execute_result"
    }
   ],
   "source": [
    "from sklearn.preprocessing import StandardScaler\n",
    "\n",
    "inference_data.loc[:,features_to_scale_inference] = scaler.transform(inference_data[features_to_scale_inference])\n",
    "inference_data.head(6)"
   ]
  },
  {
   "cell_type": "code",
   "execution_count": 46,
   "id": "3ff39fd7",
   "metadata": {},
   "outputs": [
    {
     "data": {
      "text/plain": [
       "array([120500, 165000, 175000, ..., 125000,  79000, 197000])"
      ]
     },
     "execution_count": 46,
     "metadata": {},
     "output_type": "execute_result"
    }
   ],
   "source": [
    "y_pred_inference = model.predict(inference_data)\n",
    "y_pred_inference"
   ]
  },
  {
   "cell_type": "markdown",
   "id": "94b1e829",
   "metadata": {},
   "source": [
    "## object persistance"
   ]
  },
  {
   "cell_type": "markdown",
   "id": "de926a2a",
   "metadata": {},
   "source": [
    "### Persist the trained model"
   ]
  },
  {
   "cell_type": "code",
   "execution_count": 47,
   "id": "afd4de76",
   "metadata": {},
   "outputs": [
    {
     "data": {
      "text/plain": [
       "SVC(kernel='linear')"
      ]
     },
     "execution_count": 47,
     "metadata": {},
     "output_type": "execute_result"
    }
   ],
   "source": [
    "import joblib\n",
    "#svc model\n",
    "joblib.dump(model, '/Users/yeqinghua/Github/dsp-Qinghua-YE/models/model.joblib', compress=0, protocol=None, cache_size=None)\n",
    "svc_model = joblib.load('/Users/yeqinghua/Github/dsp-Qinghua-YE/models/model.joblib', mmap_mode=None)\n",
    "svc_model"
   ]
  },
  {
   "cell_type": "markdown",
   "id": "a3f26651",
   "metadata": {},
   "source": [
    "### Persist the encoders and scalers"
   ]
  },
  {
   "cell_type": "code",
   "execution_count": 48,
   "id": "35870f0c",
   "metadata": {},
   "outputs": [
    {
     "data": {
      "text/plain": [
       "OrdinalEncoder()"
      ]
     },
     "execution_count": 48,
     "metadata": {},
     "output_type": "execute_result"
    }
   ],
   "source": [
    "#ordinalEncoder\n",
    "joblib.dump(ordinal_encoder, '/Users/yeqinghua/Github/dsp-Qinghua-YE/models/ordinal_encoder.joblib', compress=0, protocol=None, cache_size=None)\n",
    "ordinalEncoder = joblib.load('/Users/yeqinghua/Github/dsp-Qinghua-YE/models/ordinal_encoder.joblib', mmap_mode=None)\n",
    "ordinalEncoder"
   ]
  },
  {
   "cell_type": "code",
   "execution_count": 49,
   "id": "cfa83a1e",
   "metadata": {},
   "outputs": [
    {
     "data": {
      "text/plain": [
       "OneHotEncoder(dtype=<class 'int'>, sparse=False)"
      ]
     },
     "execution_count": 49,
     "metadata": {},
     "output_type": "execute_result"
    }
   ],
   "source": [
    "#oneHotEncoder\n",
    "joblib.dump(one_hot_encoder, '/Users/yeqinghua/Github/dsp-Qinghua-YE/models/one_hot_encoder.joblib', compress=0, protocol=None, cache_size=None)\n",
    "oneHotEncoder = joblib.load('/Users/yeqinghua/Github/dsp-Qinghua-YE/models/one_hot_encoder.joblib', mmap_mode=None)\n",
    "oneHotEncoder"
   ]
  },
  {
   "cell_type": "code",
   "execution_count": 50,
   "id": "35246fbd",
   "metadata": {
    "scrolled": true
   },
   "outputs": [
    {
     "data": {
      "text/plain": [
       "StandardScaler()"
      ]
     },
     "execution_count": 50,
     "metadata": {},
     "output_type": "execute_result"
    }
   ],
   "source": [
    "#scalar\n",
    "joblib.dump(scaler, '/Users/yeqinghua/Github/dsp-Qinghua-YE/models/scaler.joblib', compress=0, protocol=None, cache_size=None)\n",
    "standardScaler = joblib.load('/Users/yeqinghua/Github/dsp-Qinghua-YE/models/scaler.joblib', mmap_mode=None)\n",
    "standardScaler"
   ]
  },
  {
   "cell_type": "code",
   "execution_count": null,
   "id": "c35285a2",
   "metadata": {},
   "outputs": [],
   "source": []
  },
  {
   "cell_type": "markdown",
   "id": "0fd259a4",
   "metadata": {},
   "source": [
    "## code refactoring"
   ]
  },
  {
   "cell_type": "code",
   "execution_count": 51,
   "id": "bddc587e",
   "metadata": {},
   "outputs": [],
   "source": [
    "def read_dataset(file_path):\n",
    "    dataset = pd.read_csv(file_path)\n",
    "    df=dataset.copy()\n",
    "    return df"
   ]
  },
  {
   "cell_type": "code",
   "execution_count": 52,
   "id": "832af933",
   "metadata": {},
   "outputs": [],
   "source": [
    "df = read_dataset(\"/Users/yeqinghua/Downloads/train.csv\")"
   ]
  },
  {
   "cell_type": "code",
   "execution_count": 53,
   "id": "c349202d",
   "metadata": {},
   "outputs": [],
   "source": [
    "def select_features(df):\n",
    "    X = df[['SalePrice', 'OverallQual', 'GrLivArea', 'BedroomAbvGr', 'GarageArea', 'LotShape', 'SaleCondition']]\n",
    "    X = X.dropna().reset_index(drop=True)\n",
    "    y = df['SalePrice'].values.reshape(-1,1)\n",
    "    X = X.drop('SalePrice', axis=1)\n",
    "    return X,y"
   ]
  },
  {
   "cell_type": "markdown",
   "id": "418fd81f",
   "metadata": {},
   "source": [
    "### Model training"
   ]
  },
  {
   "cell_type": "code",
   "execution_count": 54,
   "id": "3696c17d",
   "metadata": {},
   "outputs": [],
   "source": [
    "def get_train_test_sets(X_feature,y_feature,size,random):\n",
    "    X_train, X_test, y_train, y_test = train_test_split(X_feature, y_feature, test_size = size, random_state = random)\n",
    "    return X_train,X_test, y_train, y_test"
   ]
  },
  {
   "cell_type": "code",
   "execution_count": 55,
   "id": "b4e74d7e",
   "metadata": {},
   "outputs": [],
   "source": [
    "ordinal_encoder = OrdinalEncoder()\n",
    "def ordinal_encode_data(df,ord_encode_column):\n",
    "    df[ord_encode_column] = ordinalEncoder.fit_transform(df[[ord_encode_column]])\n",
    "    return df"
   ]
  },
  {
   "cell_type": "code",
   "execution_count": 56,
   "id": "492dbef1",
   "metadata": {},
   "outputs": [],
   "source": [
    "encoder = OneHotEncoder(handle_unknown = 'error', dtype=int, sparse=False)\n",
    "def one_hot_encode_data(df,one_hot_encode_column):\n",
    "    encoded_columns = oneHotEncoder.fit_transform(df[one_hot_encode_column].values.reshape(-1, 1))\n",
    "    encoded_columns_names = oneHotEncoder.get_feature_names_out(df[[one_hot_encode_column]].columns)\n",
    "    encoded_df = pd.DataFrame(data=encoded_columns, columns=encoded_columns_names, index=df[[one_hot_encode_column]].index)\n",
    "    df = df.copy().join(encoded_df)\n",
    "    df= df.drop(one_hot_encode_column, axis=1)\n",
    "    return df"
   ]
  },
  {
   "cell_type": "code",
   "execution_count": 57,
   "id": "473eda86",
   "metadata": {},
   "outputs": [],
   "source": [
    "scaler = StandardScaler()\n",
    "def scale_data(df, scale_column1, scale_column2, scale_column3, scale_column4):\n",
    "    df[[scale_column1, scale_column2, scale_column3, scale_column4]] = standardScaler.fit_transform(df[[scale_column1, scale_column2, scale_column3, scale_column4]])\n",
    "    return df"
   ]
  },
  {
   "cell_type": "code",
   "execution_count": 58,
   "id": "f7fee8de",
   "metadata": {},
   "outputs": [],
   "source": [
    "def train_model(X, y):\n",
    "    Model= model.fit(X, y)\n",
    "    return Model"
   ]
  },
  {
   "cell_type": "markdown",
   "id": "5bb57f58",
   "metadata": {},
   "source": [
    "### Model evaluation"
   ]
  },
  {
   "cell_type": "code",
   "execution_count": 59,
   "id": "b2c400d1",
   "metadata": {},
   "outputs": [],
   "source": [
    "def ordinal_encode_data_transform(df,ord_encode_column):\n",
    "    df[ord_encode_column] = ordinalEncoder.transform(df[[ord_encode_column]])\n",
    "    return df"
   ]
  },
  {
   "cell_type": "code",
   "execution_count": 60,
   "id": "91eadc92",
   "metadata": {},
   "outputs": [],
   "source": [
    "def one_hot_encode_data_transform(df,one_hot_encode_column):\n",
    "    encoded_columns = oneHotEncoder.transform(df[one_hot_encode_column].values.reshape(-1, 1))\n",
    "    encoded_columns_names = oneHotEncoder.get_feature_names_out(df[[one_hot_encode_column]].columns)\n",
    "    encoded_df = pd.DataFrame(data=encoded_columns, columns=encoded_columns_names, index=df[[one_hot_encode_column]].index)\n",
    "    df = df.copy().join(encoded_df)\n",
    "    df= df.drop(one_hot_encode_column, axis=1)\n",
    "    return df"
   ]
  },
  {
   "cell_type": "code",
   "execution_count": 61,
   "id": "20275510",
   "metadata": {},
   "outputs": [],
   "source": [
    "def scale_data_transform(df, scale_column1, scale_column2, scale_column3, scale_column4):\n",
    "    df[[scale_column1, scale_column2, scale_column3, scale_column4]] = standardScaler.transform(df[[scale_column1, scale_column2, scale_column3, scale_column4]])\n",
    "    return df"
   ]
  },
  {
   "cell_type": "code",
   "execution_count": 62,
   "id": "8158d0e8",
   "metadata": {},
   "outputs": [],
   "source": [
    "def prediction(predict_data):\n",
    "    y_pred = svc_model.predict(predict_data)\n",
    "    return y_pred"
   ]
  },
  {
   "cell_type": "code",
   "execution_count": 63,
   "id": "0d9ffa37",
   "metadata": {},
   "outputs": [],
   "source": [
    "def compute_rmsle(y_test: np.ndarray, y_pred: np.ndarray, precision: int = 2) -> float:\n",
    "    rmsle = np.sqrt(mean_squared_log_error(y_test, y_pred))\n",
    "    return round(rmsle, precision)"
   ]
  },
  {
   "cell_type": "code",
   "execution_count": 81,
   "id": "1b28c6d7",
   "metadata": {},
   "outputs": [],
   "source": [
    "def evaluate_model(df) -> dict[str, str]:\n",
    "    X,y = select_features(df)\n",
    "    X_train,X_test, y_train, y_test = get_train_test_sets(X,y,0.25,0)\n",
    "    X_train = ordinal_encode_data(X_train,'SaleCondition')\n",
    "    X_train = one_hot_encode_data(X_train,'LotShape')\n",
    "    X_train = scale_data(X_train,'OverallQual', 'GrLivArea', 'BedroomAbvGr', 'GarageArea')\n",
    "    Model = train_model(X_train,y_train)\n",
    "    X_test = ordinal_encode_data_transform(X_test,'SaleCondition')\n",
    "    X_test = one_hot_encode_data_transform(X_test,'LotShape')\n",
    "    X_test = scale_data_transform(X_test,'OverallQual', 'GrLivArea', 'BedroomAbvGr', 'GarageArea')\n",
    "    y_pred = prediction(X_test)\n",
    "    compute_rmsle(y_test, y_pred)\n",
    "    return {'rsme': compute_rmsle(y_test, y_pred)}"
   ]
  },
  {
   "cell_type": "code",
   "execution_count": 82,
   "id": "576307b3",
   "metadata": {},
   "outputs": [
    {
     "name": "stderr",
     "output_type": "stream",
     "text": [
      "/Users/yeqinghua/opt/anaconda3/envs/ml/lib/python3.9/site-packages/sklearn/utils/validation.py:993: DataConversionWarning: A column-vector y was passed when a 1d array was expected. Please change the shape of y to (n_samples, ), for example using ravel().\n",
      "  y = column_or_1d(y, warn=True)\n"
     ]
    },
    {
     "data": {
      "text/plain": [
       "{'rsme': 0.2}"
      ]
     },
     "execution_count": 82,
     "metadata": {},
     "output_type": "execute_result"
    }
   ],
   "source": [
    "evaluate_model(df)"
   ]
  },
  {
   "cell_type": "markdown",
   "id": "eab9f870",
   "metadata": {},
   "source": [
    "### Model inference"
   ]
  },
  {
   "cell_type": "code",
   "execution_count": 73,
   "id": "5e471617",
   "metadata": {},
   "outputs": [],
   "source": [
    "data = read_dataset(\"/Users/yeqinghua/Downloads/test.csv\")"
   ]
  },
  {
   "cell_type": "code",
   "execution_count": 74,
   "id": "b9dd0a86",
   "metadata": {},
   "outputs": [],
   "source": [
    "def choose_features(data):\n",
    "    X = df[['OverallQual', 'GrLivArea', 'BedroomAbvGr', 'GarageArea', 'LotShape', 'SaleCondition']]\n",
    "    X = X.dropna().reset_index(drop=True)\n",
    "    return X"
   ]
  },
  {
   "cell_type": "code",
   "execution_count": 83,
   "id": "1c125b3f",
   "metadata": {},
   "outputs": [],
   "source": [
    "def model_inference(data) -> np.ndarray:\n",
    "    X = choose_features(data)\n",
    "    X = ordinal_encode_data_transform(X,'SaleCondition')\n",
    "    X = one_hot_encode_data_transform(X,'LotShape')\n",
    "    X = scale_data_transform(X,'OverallQual', 'GrLivArea', 'BedroomAbvGr', 'GarageArea')\n",
    "    y_pred_infer = prediction(X)\n",
    "    return y_pred_infer"
   ]
  },
  {
   "cell_type": "code",
   "execution_count": 84,
   "id": "c2956c81",
   "metadata": {},
   "outputs": [
    {
     "data": {
      "text/plain": [
       "array([210000, 155000, 230000, ..., 266500, 140000, 139000])"
      ]
     },
     "execution_count": 84,
     "metadata": {},
     "output_type": "execute_result"
    }
   ],
   "source": [
    "model_inference(data)"
   ]
  },
  {
   "cell_type": "code",
   "execution_count": null,
   "id": "9575ac82",
   "metadata": {},
   "outputs": [],
   "source": []
  }
 ],
 "metadata": {
  "kernelspec": {
   "display_name": "Python 3 (ipykernel)",
   "language": "python",
   "name": "python3"
  },
  "language_info": {
   "codemirror_mode": {
    "name": "ipython",
    "version": 3
   },
   "file_extension": ".py",
   "mimetype": "text/x-python",
   "name": "python",
   "nbconvert_exporter": "python",
   "pygments_lexer": "ipython3",
   "version": "3.9.12"
  }
 },
 "nbformat": 4,
 "nbformat_minor": 5
}
